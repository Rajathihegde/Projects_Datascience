{
 "cells": [
  {
   "cell_type": "code",
   "execution_count": 1,
   "metadata": {},
   "outputs": [
    {
     "name": "stdout",
     "output_type": "stream",
     "text": [
      "Enter the sentence :My name is Rajath\n",
      "htajaR si eman yM\n"
     ]
    }
   ],
   "source": [
    "string = input(\"Enter the sentence :\")\n",
    "string_rev = string[::-1]\n",
    "print(string_rev)"
   ]
  },
  {
   "cell_type": "code",
   "execution_count": 4,
   "metadata": {},
   "outputs": [
    {
     "name": "stdout",
     "output_type": "stream",
     "text": [
      "Enter the sentence :My name is Rajath\n",
      "Reversed sentence is:  htajaR si eman yM\n"
     ]
    }
   ],
   "source": [
    "string = input(\"Enter the sentence :\")\n",
    "string_rev = string[::-1]\n",
    "print(\"Reversed sentence is: \", string_rev)"
   ]
  },
  {
   "cell_type": "code",
   "execution_count": 16,
   "metadata": {},
   "outputs": [
    {
     "name": "stdout",
     "output_type": "stream",
     "text": [
      "The original string  is : \n",
      "Geeks for geeks\n",
      "The original string  is : \n",
      "skeeg rof skeeG\n",
      "The original string  is : \n",
      "['Geeks', 'for', 'geeks']\n"
     ]
    }
   ],
   "source": [
    "def reverse(string):\n",
    "    string = string[::-1]\n",
    "    return string\n",
    "\n",
    "s = \"Geeks for geeks\"\n",
    "\n",
    "print (\"The original string  is : \")\n",
    "print (s)\n",
    "\n",
    "print (\"The original string  is : \")\n",
    "print (reverse(s))\n",
    "\n",
    "print (\"The original string  is : \")\n",
    "print (s.split())"
   ]
  },
  {
   "cell_type": "code",
   "execution_count": null,
   "metadata": {},
   "outputs": [],
   "source": []
  }
 ],
 "metadata": {
  "kernelspec": {
   "display_name": "Python 3",
   "language": "python",
   "name": "python3"
  },
  "language_info": {
   "codemirror_mode": {
    "name": "ipython",
    "version": 3
   },
   "file_extension": ".py",
   "mimetype": "text/x-python",
   "name": "python",
   "nbconvert_exporter": "python",
   "pygments_lexer": "ipython3",
   "version": "3.8.5"
  }
 },
 "nbformat": 4,
 "nbformat_minor": 4
}
