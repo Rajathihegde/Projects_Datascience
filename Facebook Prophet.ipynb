{
 "cells": [
  {
   "cell_type": "code",
   "execution_count": 64,
   "metadata": {
    "execution": {
     "iopub.execute_input": "2022-02-27T11:38:47.583771Z",
     "iopub.status.busy": "2022-02-27T11:38:47.583061Z",
     "iopub.status.idle": "2022-02-27T11:38:47.589582Z",
     "shell.execute_reply": "2022-02-27T11:38:47.588772Z",
     "shell.execute_reply.started": "2022-02-27T11:38:47.583731Z"
    }
   },
   "outputs": [],
   "source": [
    "import os\n",
    "import warnings\n",
    "warnings.filterwarnings('ignore')\n",
    "from pylab import rcParams\n",
    "rcParams['figure.figsize'] = 10, 6\n",
    "from statsmodels.tsa.stattools import adfuller\n",
    "from statsmodels.tsa.seasonal import seasonal_decompose\n",
    "from statsmodels.tsa.arima_model import ARIMA\n",
    "#from pmdarima.arima import auto_arima\n",
    "from sklearn.metrics import mean_squared_error, mean_absolute_error\n",
    "import math\n",
    "import numpy as np\n",
    "#from nsepy import get_history\n",
    "from datetime import date\n",
    "import matplotlib.pyplot as plt\n",
    "import seaborn as sns\n",
    "import pandas as pd"
   ]
  },
  {
   "cell_type": "code",
   "execution_count": 65,
   "metadata": {
    "execution": {
     "iopub.execute_input": "2022-02-27T11:38:47.612825Z",
     "iopub.status.busy": "2022-02-27T11:38:47.612538Z",
     "iopub.status.idle": "2022-02-27T11:38:47.634776Z",
     "shell.execute_reply": "2022-02-27T11:38:47.634145Z",
     "shell.execute_reply.started": "2022-02-27T11:38:47.612797Z"
    }
   },
   "outputs": [],
   "source": [
    "df = pd.read_csv('../input/nestleind/NESTLEIND.NS.csv')#,parse_dates=['Date'],index_col='Date')\n",
    "#print the head\n",
    "df.head()"
   ]
  },
  {
   "cell_type": "code",
   "execution_count": 66,
   "metadata": {
    "execution": {
     "iopub.execute_input": "2022-02-27T11:38:47.641646Z",
     "iopub.status.busy": "2022-02-27T11:38:47.641323Z",
     "iopub.status.idle": "2022-02-27T11:38:47.656851Z",
     "shell.execute_reply": "2022-02-27T11:38:47.656114Z",
     "shell.execute_reply.started": "2022-02-27T11:38:47.641616Z"
    }
   },
   "outputs": [],
   "source": [
    "df.tail()"
   ]
  },
  {
   "cell_type": "code",
   "execution_count": 67,
   "metadata": {
    "execution": {
     "iopub.execute_input": "2022-02-27T11:38:47.658796Z",
     "iopub.status.busy": "2022-02-27T11:38:47.658213Z",
     "iopub.status.idle": "2022-02-27T11:38:47.668787Z",
     "shell.execute_reply": "2022-02-27T11:38:47.668071Z",
     "shell.execute_reply.started": "2022-02-27T11:38:47.658759Z"
    }
   },
   "outputs": [],
   "source": [
    "print(df.head())\n",
    "print('\\n Shape of the data:')\n",
    "print(df.shape)"
   ]
  },
  {
   "cell_type": "code",
   "execution_count": 68,
   "metadata": {
    "execution": {
     "iopub.execute_input": "2022-02-27T11:38:47.670348Z",
     "iopub.status.busy": "2022-02-27T11:38:47.669823Z",
     "iopub.status.idle": "2022-02-27T11:38:47.675770Z",
     "shell.execute_reply": "2022-02-27T11:38:47.675072Z",
     "shell.execute_reply.started": "2022-02-27T11:38:47.670321Z"
    }
   },
   "outputs": [],
   "source": [
    "df.drop(['Adj Close','Volume','Open','High','Low'],axis=1,inplace=True)"
   ]
  },
  {
   "cell_type": "code",
   "execution_count": 69,
   "metadata": {
    "execution": {
     "iopub.execute_input": "2022-02-27T11:38:47.678251Z",
     "iopub.status.busy": "2022-02-27T11:38:47.677338Z",
     "iopub.status.idle": "2022-02-27T11:38:47.934888Z",
     "shell.execute_reply": "2022-02-27T11:38:47.934118Z",
     "shell.execute_reply.started": "2022-02-27T11:38:47.678205Z"
    }
   },
   "outputs": [],
   "source": [
    "rcParams['figure.figsize'] = 15,8\n",
    "df.plot()"
   ]
  },
  {
   "cell_type": "code",
   "execution_count": 70,
   "metadata": {
    "execution": {
     "iopub.execute_input": "2022-02-27T11:38:47.936813Z",
     "iopub.status.busy": "2022-02-27T11:38:47.936558Z",
     "iopub.status.idle": "2022-02-27T11:38:47.947201Z",
     "shell.execute_reply": "2022-02-27T11:38:47.946401Z",
     "shell.execute_reply.started": "2022-02-27T11:38:47.936778Z"
    }
   },
   "outputs": [],
   "source": [
    "df = df[[\"Date\",\"Close\"]] \n",
    "# Rename the features: These names are required for the model fitting\n",
    "df = df.rename(columns = {\"Date\":\"ds\",\"Close\":\"y\"}) \n",
    "df.head()"
   ]
  },
  {
   "cell_type": "code",
   "execution_count": 71,
   "metadata": {
    "execution": {
     "iopub.execute_input": "2022-02-27T11:38:47.949253Z",
     "iopub.status.busy": "2022-02-27T11:38:47.948941Z",
     "iopub.status.idle": "2022-02-27T11:38:47.963315Z",
     "shell.execute_reply": "2022-02-27T11:38:47.962697Z",
     "shell.execute_reply.started": "2022-02-27T11:38:47.949154Z"
    }
   },
   "outputs": [],
   "source": [
    "df1= df[0:1485]\n",
    "df1"
   ]
  },
  {
   "cell_type": "code",
   "execution_count": 72,
   "metadata": {
    "execution": {
     "iopub.execute_input": "2022-02-27T11:38:47.965701Z",
     "iopub.status.busy": "2022-02-27T11:38:47.965221Z",
     "iopub.status.idle": "2022-02-27T11:38:47.976930Z",
     "shell.execute_reply": "2022-02-27T11:38:47.976210Z",
     "shell.execute_reply.started": "2022-02-27T11:38:47.965666Z"
    }
   },
   "outputs": [],
   "source": [
    "df2=df[-30:]\n",
    "df2"
   ]
  },
  {
   "cell_type": "code",
   "execution_count": 73,
   "metadata": {
    "execution": {
     "iopub.execute_input": "2022-02-27T11:38:47.978626Z",
     "iopub.status.busy": "2022-02-27T11:38:47.977926Z",
     "iopub.status.idle": "2022-02-27T11:38:54.009951Z",
     "shell.execute_reply": "2022-02-27T11:38:54.009182Z",
     "shell.execute_reply.started": "2022-02-27T11:38:47.978591Z"
    }
   },
   "outputs": [],
   "source": [
    "from fbprophet import Prophet\n",
    "# The Prophet class (model)\n",
    "fbp = Prophet(daily_seasonality = True) \n",
    " # Fit the model \n",
    "fbp.fit(df1)\n",
    "# We need to specify the number of days in future\n",
    "# We'll be predicting the full 2021 stock prices\n",
    "fut = fbp.make_future_dataframe(periods=90) \n",
    "forecast = fbp.predict(fut)"
   ]
  },
  {
   "cell_type": "code",
   "execution_count": 74,
   "metadata": {
    "execution": {
     "iopub.execute_input": "2022-02-27T11:38:54.011767Z",
     "iopub.status.busy": "2022-02-27T11:38:54.011370Z",
     "iopub.status.idle": "2022-02-27T11:38:54.171738Z",
     "shell.execute_reply": "2022-02-27T11:38:54.171120Z",
     "shell.execute_reply.started": "2022-02-27T11:38:54.011724Z"
    }
   },
   "outputs": [],
   "source": [
    "from fbprophet.plot import plot_plotly, plot_components_plotly\n",
    "# A better plot than the simple matplotlib\n",
    "plot_plotly(fbp, forecast)"
   ]
  },
  {
   "cell_type": "code",
   "execution_count": 75,
   "metadata": {
    "execution": {
     "iopub.execute_input": "2022-02-27T11:38:54.173308Z",
     "iopub.status.busy": "2022-02-27T11:38:54.172930Z",
     "iopub.status.idle": "2022-02-27T11:38:54.179220Z",
     "shell.execute_reply": "2022-02-27T11:38:54.178383Z",
     "shell.execute_reply.started": "2022-02-27T11:38:54.173275Z"
    }
   },
   "outputs": [],
   "source": [
    "forecast=fbp.make_future_dataframe(periods=30)"
   ]
  },
  {
   "cell_type": "code",
   "execution_count": 76,
   "metadata": {
    "execution": {
     "iopub.execute_input": "2022-02-27T11:38:54.181133Z",
     "iopub.status.busy": "2022-02-27T11:38:54.180618Z",
     "iopub.status.idle": "2022-02-27T11:38:54.194597Z",
     "shell.execute_reply": "2022-02-27T11:38:54.193910Z",
     "shell.execute_reply.started": "2022-02-27T11:38:54.181098Z"
    }
   },
   "outputs": [],
   "source": [
    "df1.tail()"
   ]
  },
  {
   "cell_type": "code",
   "execution_count": 77,
   "metadata": {
    "execution": {
     "iopub.execute_input": "2022-02-27T11:38:54.196145Z",
     "iopub.status.busy": "2022-02-27T11:38:54.195873Z",
     "iopub.status.idle": "2022-02-27T11:38:54.204799Z",
     "shell.execute_reply": "2022-02-27T11:38:54.204077Z",
     "shell.execute_reply.started": "2022-02-27T11:38:54.196109Z"
    }
   },
   "outputs": [],
   "source": [
    "forecast.tail()"
   ]
  },
  {
   "cell_type": "code",
   "execution_count": 78,
   "metadata": {
    "execution": {
     "iopub.execute_input": "2022-02-27T11:38:54.209154Z",
     "iopub.status.busy": "2022-02-27T11:38:54.208714Z",
     "iopub.status.idle": "2022-02-27T11:38:57.502961Z",
     "shell.execute_reply": "2022-02-27T11:38:57.502280Z",
     "shell.execute_reply.started": "2022-02-27T11:38:54.209122Z"
    }
   },
   "outputs": [],
   "source": [
    "pred=fbp.predict(forecast)\n",
    "pred.tail()"
   ]
  },
  {
   "cell_type": "code",
   "execution_count": 79,
   "metadata": {
    "execution": {
     "iopub.execute_input": "2022-02-27T11:38:57.504524Z",
     "iopub.status.busy": "2022-02-27T11:38:57.504118Z",
     "iopub.status.idle": "2022-02-27T11:38:57.510540Z",
     "shell.execute_reply": "2022-02-27T11:38:57.509869Z",
     "shell.execute_reply.started": "2022-02-27T11:38:57.504484Z"
    }
   },
   "outputs": [],
   "source": [
    "pred['yhat'].tail()"
   ]
  },
  {
   "cell_type": "code",
   "execution_count": 80,
   "metadata": {
    "execution": {
     "iopub.execute_input": "2022-02-27T11:38:57.512285Z",
     "iopub.status.busy": "2022-02-27T11:38:57.511824Z",
     "iopub.status.idle": "2022-02-27T11:38:57.527616Z",
     "shell.execute_reply": "2022-02-27T11:38:57.526374Z",
     "shell.execute_reply.started": "2022-02-27T11:38:57.512247Z"
    }
   },
   "outputs": [],
   "source": [
    "pred[['ds','yhat','yhat_lower','yhat_upper']].head()"
   ]
  },
  {
   "cell_type": "code",
   "execution_count": 81,
   "metadata": {
    "execution": {
     "iopub.execute_input": "2022-02-27T11:38:57.528740Z",
     "iopub.status.busy": "2022-02-27T11:38:57.528559Z",
     "iopub.status.idle": "2022-02-27T11:38:58.006787Z",
     "shell.execute_reply": "2022-02-27T11:38:58.006139Z",
     "shell.execute_reply.started": "2022-02-27T11:38:57.528717Z"
    }
   },
   "outputs": [],
   "source": [
    "fbp.plot(pred)"
   ]
  },
  {
   "cell_type": "code",
   "execution_count": 82,
   "metadata": {
    "execution": {
     "iopub.execute_input": "2022-02-27T11:38:58.008453Z",
     "iopub.status.busy": "2022-02-27T11:38:58.007985Z",
     "iopub.status.idle": "2022-02-27T11:38:59.441217Z",
     "shell.execute_reply": "2022-02-27T11:38:59.440395Z",
     "shell.execute_reply.started": "2022-02-27T11:38:58.008397Z"
    }
   },
   "outputs": [],
   "source": [
    "fbp.plot_components(pred)"
   ]
  },
  {
   "cell_type": "code",
   "execution_count": 83,
   "metadata": {
    "execution": {
     "iopub.execute_input": "2022-02-27T11:38:59.443000Z",
     "iopub.status.busy": "2022-02-27T11:38:59.442741Z",
     "iopub.status.idle": "2022-02-27T11:38:59.475997Z",
     "shell.execute_reply": "2022-02-27T11:38:59.475362Z",
     "shell.execute_reply.started": "2022-02-27T11:38:59.442962Z"
    }
   },
   "outputs": [],
   "source": [
    "pred"
   ]
  },
  {
   "cell_type": "code",
   "execution_count": 84,
   "metadata": {
    "execution": {
     "iopub.execute_input": "2022-02-27T11:38:59.477671Z",
     "iopub.status.busy": "2022-02-27T11:38:59.477032Z",
     "iopub.status.idle": "2022-02-27T11:38:59.489799Z",
     "shell.execute_reply": "2022-02-27T11:38:59.489016Z",
     "shell.execute_reply.started": "2022-02-27T11:38:59.477633Z"
    }
   },
   "outputs": [],
   "source": [
    "pred[['ds','trend']]"
   ]
  },
  {
   "cell_type": "code",
   "execution_count": 85,
   "metadata": {
    "execution": {
     "iopub.execute_input": "2022-02-27T11:38:59.491464Z",
     "iopub.status.busy": "2022-02-27T11:38:59.491010Z",
     "iopub.status.idle": "2022-02-27T11:38:59.500183Z",
     "shell.execute_reply": "2022-02-27T11:38:59.499409Z",
     "shell.execute_reply.started": "2022-02-27T11:38:59.491413Z"
    }
   },
   "outputs": [],
   "source": [
    "from sklearn.metrics import  mean_squared_error\n",
    "rmse = mean_squared_error(df['y'],pred['yhat'], squared=False)\n",
    "print(rmse)"
   ]
  },
  {
   "cell_type": "code",
   "execution_count": 86,
   "metadata": {
    "execution": {
     "iopub.execute_input": "2022-02-27T11:38:59.501765Z",
     "iopub.status.busy": "2022-02-27T11:38:59.501351Z",
     "iopub.status.idle": "2022-02-27T11:38:59.508308Z",
     "shell.execute_reply": "2022-02-27T11:38:59.507368Z",
     "shell.execute_reply.started": "2022-02-27T11:38:59.501726Z"
    }
   },
   "outputs": [],
   "source": [
    "def mape(actual,pred):\n",
    "    return np.mean(np.abs((actual - pred) / actual)) * 100"
   ]
  },
  {
   "cell_type": "code",
   "execution_count": 87,
   "metadata": {
    "execution": {
     "iopub.execute_input": "2022-02-27T11:38:59.509988Z",
     "iopub.status.busy": "2022-02-27T11:38:59.509719Z",
     "iopub.status.idle": "2022-02-27T11:38:59.520365Z",
     "shell.execute_reply": "2022-02-27T11:38:59.519496Z",
     "shell.execute_reply.started": "2022-02-27T11:38:59.509951Z"
    }
   },
   "outputs": [],
   "source": [
    "mpe=mape(df['y'],pred['yhat'])\n",
    "print(mpe)"
   ]
  },
  {
   "cell_type": "code",
   "execution_count": 88,
   "metadata": {
    "execution": {
     "iopub.execute_input": "2022-02-27T11:38:59.522317Z",
     "iopub.status.busy": "2022-02-27T11:38:59.521664Z",
     "iopub.status.idle": "2022-02-27T11:38:59.527222Z",
     "shell.execute_reply": "2022-02-27T11:38:59.526506Z",
     "shell.execute_reply.started": "2022-02-27T11:38:59.522280Z"
    }
   },
   "outputs": [],
   "source": [
    "df_train=df[0:1485]\n",
    "df_test=df[1485:1515]"
   ]
  },
  {
   "cell_type": "code",
   "execution_count": 89,
   "metadata": {
    "execution": {
     "iopub.execute_input": "2022-02-27T11:38:59.529130Z",
     "iopub.status.busy": "2022-02-27T11:38:59.528479Z",
     "iopub.status.idle": "2022-02-27T11:39:01.182034Z",
     "shell.execute_reply": "2022-02-27T11:39:01.181328Z",
     "shell.execute_reply.started": "2022-02-27T11:38:59.529096Z"
    }
   },
   "outputs": [],
   "source": [
    "m = Prophet()\n",
    "m.fit(df_train)"
   ]
  },
  {
   "cell_type": "code",
   "execution_count": 90,
   "metadata": {
    "execution": {
     "iopub.execute_input": "2022-02-27T11:39:01.183627Z",
     "iopub.status.busy": "2022-02-27T11:39:01.183372Z",
     "iopub.status.idle": "2022-02-27T11:39:01.191270Z",
     "shell.execute_reply": "2022-02-27T11:39:01.189348Z",
     "shell.execute_reply.started": "2022-02-27T11:39:01.183591Z"
    }
   },
   "outputs": [],
   "source": [
    "future = m.make_future_dataframe(periods=90)\n"
   ]
  },
  {
   "cell_type": "code",
   "execution_count": 91,
   "metadata": {
    "execution": {
     "iopub.execute_input": "2022-02-27T11:39:01.193239Z",
     "iopub.status.busy": "2022-02-27T11:39:01.192821Z",
     "iopub.status.idle": "2022-02-27T11:39:04.662686Z",
     "shell.execute_reply": "2022-02-27T11:39:04.661948Z",
     "shell.execute_reply.started": "2022-02-27T11:39:01.193176Z"
    }
   },
   "outputs": [],
   "source": [
    "forecast = m.predict(future)"
   ]
  },
  {
   "cell_type": "code",
   "execution_count": 92,
   "metadata": {
    "execution": {
     "iopub.execute_input": "2022-02-27T11:39:04.664051Z",
     "iopub.status.busy": "2022-02-27T11:39:04.663792Z",
     "iopub.status.idle": "2022-02-27T11:39:04.677144Z",
     "shell.execute_reply": "2022-02-27T11:39:04.676491Z",
     "shell.execute_reply.started": "2022-02-27T11:39:04.664017Z"
    }
   },
   "outputs": [],
   "source": [
    "forecast[['ds', 'yhat', 'yhat_lower', 'yhat_upper']].tail()"
   ]
  },
  {
   "cell_type": "code",
   "execution_count": 93,
   "metadata": {
    "execution": {
     "iopub.execute_input": "2022-02-27T11:39:04.678948Z",
     "iopub.status.busy": "2022-02-27T11:39:04.678502Z",
     "iopub.status.idle": "2022-02-27T11:39:05.007885Z",
     "shell.execute_reply": "2022-02-27T11:39:05.007272Z",
     "shell.execute_reply.started": "2022-02-27T11:39:04.678911Z"
    }
   },
   "outputs": [],
   "source": [
    "fig1 = m.plot(forecast)"
   ]
  },
  {
   "cell_type": "code",
   "execution_count": 4,
   "metadata": {
    "execution": {
     "iopub.execute_input": "2022-02-27T11:41:38.910248Z",
     "iopub.status.busy": "2022-02-27T11:41:38.909581Z",
     "iopub.status.idle": "2022-02-27T11:41:38.922958Z",
     "shell.execute_reply": "2022-02-27T11:41:38.922324Z",
     "shell.execute_reply.started": "2022-02-27T11:41:38.910210Z"
    }
   },
   "outputs": [
    {
     "data": {
      "text/html": [
       "<div>\n",
       "<style scoped>\n",
       "    .dataframe tbody tr th:only-of-type {\n",
       "        vertical-align: middle;\n",
       "    }\n",
       "\n",
       "    .dataframe tbody tr th {\n",
       "        vertical-align: top;\n",
       "    }\n",
       "\n",
       "    .dataframe thead th {\n",
       "        text-align: right;\n",
       "    }\n",
       "</style>\n",
       "<table border=\"1\" class=\"dataframe\">\n",
       "  <thead>\n",
       "    <tr style=\"text-align: right;\">\n",
       "      <th></th>\n",
       "      <th>RMSE-(Facebook Prophet)</th>\n",
       "      <th>MAPE-(Facebook Prophet)</th>\n",
       "    </tr>\n",
       "  </thead>\n",
       "  <tbody>\n",
       "    <tr>\n",
       "      <th>RELIANCE</th>\n",
       "      <td>131.310244</td>\n",
       "      <td>7.345378</td>\n",
       "    </tr>\n",
       "    <tr>\n",
       "      <th>CIPLA</th>\n",
       "      <td>30.207312</td>\n",
       "      <td>4.144978</td>\n",
       "    </tr>\n",
       "    <tr>\n",
       "      <th>MARUTI</th>\n",
       "      <td>504.948712</td>\n",
       "      <td>6.210224</td>\n",
       "    </tr>\n",
       "    <tr>\n",
       "      <th>HUL</th>\n",
       "      <td>89.982457</td>\n",
       "      <td>3.645064</td>\n",
       "    </tr>\n",
       "    <tr>\n",
       "      <th>ICICI BANK</th>\n",
       "      <td>25.057282</td>\n",
       "      <td>4.966212</td>\n",
       "    </tr>\n",
       "    <tr>\n",
       "      <th>NESTLE IND</th>\n",
       "      <td>523.323360</td>\n",
       "      <td>3.374548</td>\n",
       "    </tr>\n",
       "    <tr>\n",
       "      <th>TCS</th>\n",
       "      <td>90.388834</td>\n",
       "      <td>3.494713</td>\n",
       "    </tr>\n",
       "    <tr>\n",
       "      <th>RAMCO CEMENT</th>\n",
       "      <td>50.049060</td>\n",
       "      <td>4.952475</td>\n",
       "    </tr>\n",
       "    <tr>\n",
       "      <th>NIFTYBEES</th>\n",
       "      <td>6.444114</td>\n",
       "      <td>4.325292</td>\n",
       "    </tr>\n",
       "    <tr>\n",
       "      <th>BANKBEES</th>\n",
       "      <td>19.617812</td>\n",
       "      <td>6.114020</td>\n",
       "    </tr>\n",
       "  </tbody>\n",
       "</table>\n",
       "</div>"
      ],
      "text/plain": [
       "              RMSE-(Facebook Prophet)  MAPE-(Facebook Prophet)\n",
       "RELIANCE                   131.310244                 7.345378\n",
       "CIPLA                       30.207312                 4.144978\n",
       "MARUTI                     504.948712                 6.210224\n",
       "HUL                         89.982457                 3.645064\n",
       "ICICI BANK                  25.057282                 4.966212\n",
       "NESTLE IND                 523.323360                 3.374548\n",
       "TCS                         90.388834                 3.494713\n",
       "RAMCO CEMENT                50.049060                 4.952475\n",
       "NIFTYBEES                    6.444114                 4.325292\n",
       "BANKBEES                    19.617812                 6.114020"
      ]
     },
     "execution_count": 4,
     "metadata": {},
     "output_type": "execute_result"
    }
   ],
   "source": [
    "# DataFrame using arrays.\n",
    "import pandas as pd\n",
    " \n",
    "# initialize data of lists.\n",
    "data = {'RMSE-(Facebook Prophet)':[131.3102444,\n",
    "30.20731173,\n",
    "504.9487121,\n",
    "89.98245748,\n",
    "25.0572818,\n",
    "523.32336,\n",
    "90.38883423,\n",
    "50.04906028,\n",
    "6.444114398,\n",
    "19.61781207],\n",
    "        'MAPE-(Facebook Prophet)':[7.345378119,\n",
    "4.144978264,\n",
    "6.210223818,\n",
    "3.645063608,\n",
    "4.966211766,\n",
    "3.374548269,\n",
    "3.494712676,\n",
    "4.952475228,\n",
    "4.325292292,\n",
    "6.114019947]}\n",
    " \n",
    "# Creates pandas DataFrame.\n",
    "df1 = pd.DataFrame(data, index =['RELIANCE',\n",
    "                                'CIPLA',\n",
    "                                'MARUTI',\n",
    "                                'HUL','ICICI BANK','NESTLE IND','TCS','RAMCO CEMENT','NIFTYBEES','BANKBEES'])\n",
    " \n",
    "# print the data\n",
    "df1"
   ]
  },
  {
   "cell_type": "code",
   "execution_count": null,
   "metadata": {},
   "outputs": [],
   "source": []
  }
 ],
 "metadata": {
  "kernelspec": {
   "display_name": "Python 3 (ipykernel)",
   "language": "python",
   "name": "python3"
  },
  "language_info": {
   "codemirror_mode": {
    "name": "ipython",
    "version": 3
   },
   "file_extension": ".py",
   "mimetype": "text/x-python",
   "name": "python",
   "nbconvert_exporter": "python",
   "pygments_lexer": "ipython3",
   "version": "3.9.12"
  }
 },
 "nbformat": 4,
 "nbformat_minor": 4
}
