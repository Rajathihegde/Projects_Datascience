{
 "cells": [
  {
   "cell_type": "markdown",
   "metadata": {
    "id": "4_GTWZbjfMag"
   },
   "source": [
    "# STOCK PREDICTION USING TWITTER SENTIMENT ANALYSIS"
   ]
  },
  {
   "cell_type": "markdown",
   "metadata": {
    "id": "oeCWEDxufMax"
   },
   "source": [
    "#### importing machine learning libraries"
   ]
  },
  {
   "cell_type": "code",
   "execution_count": null,
   "metadata": {
    "execution": {
     "iopub.execute_input": "2022-04-18T12:30:48.690541Z",
     "iopub.status.busy": "2022-04-18T12:30:48.689858Z",
     "iopub.status.idle": "2022-04-18T12:30:48.694450Z",
     "shell.execute_reply": "2022-04-18T12:30:48.693651Z",
     "shell.execute_reply.started": "2022-04-18T12:30:48.690502Z"
    },
    "id": "tLG_QHKcfMaz"
   },
   "outputs": [],
   "source": [
    "#!pip install twython "
   ]
  },
  {
   "cell_type": "code",
   "execution_count": null,
   "metadata": {
    "execution": {
     "iopub.execute_input": "2022-04-18T12:30:48.938280Z",
     "iopub.status.busy": "2022-04-18T12:30:48.938058Z",
     "iopub.status.idle": "2022-04-18T12:30:48.941890Z",
     "shell.execute_reply": "2022-04-18T12:30:48.940931Z",
     "shell.execute_reply.started": "2022-04-18T12:30:48.938242Z"
    },
    "id": "Ne6J9EqpfMa2"
   },
   "outputs": [],
   "source": [
    "#!pip install tweepy"
   ]
  },
  {
   "cell_type": "code",
   "execution_count": null,
   "metadata": {
    "ExecuteTime": {
     "end_time": "2021-09-22T09:38:08.972017Z",
     "start_time": "2021-09-22T09:38:08.960019Z"
    },
    "execution": {
     "iopub.execute_input": "2022-04-18T12:30:49.184597Z",
     "iopub.status.busy": "2022-04-18T12:30:49.184394Z",
     "iopub.status.idle": "2022-04-18T12:30:49.188649Z",
     "shell.execute_reply": "2022-04-18T12:30:49.187971Z",
     "shell.execute_reply.started": "2022-04-18T12:30:49.184572Z"
    },
    "id": "E8kg5febfMa3"
   },
   "outputs": [],
   "source": [
    "import numpy as np\n",
    "import pandas as pd\n",
    "from nltk.classify import NaiveBayesClassifier\n",
    "from nltk.corpus import subjectivity\n",
    "from nltk.sentiment import SentimentAnalyzer\n",
    "from nltk.sentiment.util import *\n",
    "import matplotlib.pyplot as mlpt"
   ]
  },
  {
   "cell_type": "markdown",
   "metadata": {
    "id": "B_fnj7sQfMa4"
   },
   "source": [
    "#### importing library to fetch data from twitter"
   ]
  },
  {
   "cell_type": "code",
   "execution_count": null,
   "metadata": {
    "ExecuteTime": {
     "end_time": "2021-09-22T09:38:09.389331Z",
     "start_time": "2021-09-22T09:38:09.385373Z"
    },
    "execution": {
     "iopub.execute_input": "2022-04-18T12:30:49.485442Z",
     "iopub.status.busy": "2022-04-18T12:30:49.484861Z",
     "iopub.status.idle": "2022-04-18T12:30:49.489958Z",
     "shell.execute_reply": "2022-04-18T12:30:49.488943Z",
     "shell.execute_reply.started": "2022-04-18T12:30:49.485408Z"
    },
    "id": "LjUfPkT4fMa5"
   },
   "outputs": [],
   "source": [
    "import tweepy\n",
    "import csv\n",
    "import pandas as pd\n",
    "import random\n",
    "import numpy as np\n",
    "import pandas as pd"
   ]
  },
  {
   "cell_type": "markdown",
   "metadata": {
    "id": "ZiR5OfxwfMa6"
   },
   "source": [
    "#### setting up consumer key and access token"
   ]
  },
  {
   "cell_type": "code",
   "execution_count": null,
   "metadata": {
    "ExecuteTime": {
     "end_time": "2021-09-22T09:38:09.824910Z",
     "start_time": "2021-09-22T09:38:09.818945Z"
    },
    "execution": {
     "iopub.execute_input": "2022-04-18T12:30:49.797157Z",
     "iopub.status.busy": "2022-04-18T12:30:49.796927Z",
     "iopub.status.idle": "2022-04-18T12:30:49.802704Z",
     "shell.execute_reply": "2022-04-18T12:30:49.801754Z",
     "shell.execute_reply.started": "2022-04-18T12:30:49.797130Z"
    },
    "id": "Zu8H3Ey2fMa7"
   },
   "outputs": [],
   "source": [
    "consumer_key    = '3jmA1BqasLHfItBXj3KnAIGFB'\n",
    "consumer_secret = 'imyEeVTctFZuK62QHmL1I0AUAMudg5HKJDfkx0oR7oFbFinbvA'\n",
    "\n",
    "access_token  = '265857263-pF1DRxgIcxUbxEEFtLwLODPzD3aMl6d4zOKlMnme'\n",
    "access_token_secret = 'uUFoOOGeNJfOYD3atlcmPtaxxniXxQzAU4ESJLopA1lbC'\n",
    "\n",
    "auth = tweepy.OAuthHandler(consumer_key, consumer_secret)\n",
    "auth.set_access_token(access_token, access_token_secret)\n",
    "api = tweepy.API(auth,wait_on_rate_limit=True)"
   ]
  },
  {
   "cell_type": "markdown",
   "metadata": {
    "id": "AX0bPuz4fMa8"
   },
   "source": [
    "#### Fetching tweets for United Airlines in extended mode (means entire tweet will come and not just few words + link)"
   ]
  },
  {
   "cell_type": "code",
   "execution_count": null,
   "metadata": {
    "execution": {
     "iopub.execute_input": "2022-04-18T12:30:50.103894Z",
     "iopub.status.busy": "2022-04-18T12:30:50.103628Z",
     "iopub.status.idle": "2022-04-18T12:30:51.582307Z",
     "shell.execute_reply": "2022-04-18T12:30:51.581608Z",
     "shell.execute_reply.started": "2022-04-18T12:30:50.103852Z"
    },
    "id": "wfEp-Z60fMa9"
   },
   "outputs": [],
   "source": [
    "fetch_tweets=tweepy.Cursor(api.search, q=\"#HindustanUnilever\",count=100, lang =\"en\",since=\"2020-01-01\", tweet_mode=\"extended\").items()\n",
    "data=pd.DataFrame(data=[[tweet_info.created_at.date(),tweet_info.full_text]for tweet_info in fetch_tweets],columns=['Date','Tweets'])"
   ]
  },
  {
   "cell_type": "code",
   "execution_count": null,
   "metadata": {
    "ExecuteTime": {
     "end_time": "2021-09-22T09:38:19.008323Z",
     "start_time": "2021-09-22T09:38:14.144Z"
    },
    "colab": {
     "base_uri": "https://localhost:8080/",
     "height": 424
    },
    "execution": {
     "iopub.execute_input": "2022-04-18T12:30:51.585250Z",
     "iopub.status.busy": "2022-04-18T12:30:51.584998Z",
     "iopub.status.idle": "2022-04-18T12:30:51.596833Z",
     "shell.execute_reply": "2022-04-18T12:30:51.595841Z",
     "shell.execute_reply.started": "2022-04-18T12:30:51.585216Z"
    },
    "id": "KoJiHuC5fMa-",
    "outputId": "91277662-4f6a-4136-e40b-60d67c8c97ae"
   },
   "outputs": [
    {
     "data": {
      "text/html": [
       "\n",
       "  <div id=\"df-8c38d990-9a22-442f-906f-7a73d659bade\">\n",
       "    <div class=\"colab-df-container\">\n",
       "      <div>\n",
       "<style scoped>\n",
       "    .dataframe tbody tr th:only-of-type {\n",
       "        vertical-align: middle;\n",
       "    }\n",
       "\n",
       "    .dataframe tbody tr th {\n",
       "        vertical-align: top;\n",
       "    }\n",
       "\n",
       "    .dataframe thead th {\n",
       "        text-align: right;\n",
       "    }\n",
       "</style>\n",
       "<table border=\"1\" class=\"dataframe\">\n",
       "  <thead>\n",
       "    <tr style=\"text-align: right;\">\n",
       "      <th></th>\n",
       "      <th>Date</th>\n",
       "      <th>Tweets</th>\n",
       "    </tr>\n",
       "  </thead>\n",
       "  <tbody>\n",
       "    <tr>\n",
       "      <th>0</th>\n",
       "      <td>2022-05-09</td>\n",
       "      <td>RT @ETRetail: Ecommerce sales gallop despite b...</td>\n",
       "    </tr>\n",
       "    <tr>\n",
       "      <th>1</th>\n",
       "      <td>2022-05-09</td>\n",
       "      <td>Five very good #fundamental stocks which #trad...</td>\n",
       "    </tr>\n",
       "    <tr>\n",
       "      <th>2</th>\n",
       "      <td>2022-05-09</td>\n",
       "      <td>Ecommerce sales gallop despite big rebound in ...</td>\n",
       "    </tr>\n",
       "    <tr>\n",
       "      <th>3</th>\n",
       "      <td>2022-05-09</td>\n",
       "      <td>\"Rate hike was inevitable. Inflation is defini...</td>\n",
       "    </tr>\n",
       "    <tr>\n",
       "      <th>4</th>\n",
       "      <td>2022-05-08</td>\n",
       "      <td>RT @ETRetail: HUL expects more sequential infl...</td>\n",
       "    </tr>\n",
       "    <tr>\n",
       "      <th>...</th>\n",
       "      <td>...</td>\n",
       "      <td>...</td>\n",
       "    </tr>\n",
       "    <tr>\n",
       "      <th>66</th>\n",
       "      <td>2022-04-29</td>\n",
       "      <td>RT @DalalETips: 1st Target is achieved. #Hindu...</td>\n",
       "    </tr>\n",
       "    <tr>\n",
       "      <th>67</th>\n",
       "      <td>2022-04-29</td>\n",
       "      <td>1st Target is achieved. #HindustanUnilever hit...</td>\n",
       "    </tr>\n",
       "    <tr>\n",
       "      <th>68</th>\n",
       "      <td>2022-04-29</td>\n",
       "      <td>RT @FinancialXpress: #HUL’s gross margins decl...</td>\n",
       "    </tr>\n",
       "    <tr>\n",
       "      <th>69</th>\n",
       "      <td>2022-04-29</td>\n",
       "      <td>#HUL’s gross margins declined a sharp 300 basi...</td>\n",
       "    </tr>\n",
       "    <tr>\n",
       "      <th>70</th>\n",
       "      <td>2022-04-29</td>\n",
       "      <td>#Editorial | The #health of children, particul...</td>\n",
       "    </tr>\n",
       "  </tbody>\n",
       "</table>\n",
       "<p>71 rows × 2 columns</p>\n",
       "</div>\n",
       "      <button class=\"colab-df-convert\" onclick=\"convertToInteractive('df-8c38d990-9a22-442f-906f-7a73d659bade')\"\n",
       "              title=\"Convert this dataframe to an interactive table.\"\n",
       "              style=\"display:none;\">\n",
       "        \n",
       "  <svg xmlns=\"http://www.w3.org/2000/svg\" height=\"24px\"viewBox=\"0 0 24 24\"\n",
       "       width=\"24px\">\n",
       "    <path d=\"M0 0h24v24H0V0z\" fill=\"none\"/>\n",
       "    <path d=\"M18.56 5.44l.94 2.06.94-2.06 2.06-.94-2.06-.94-.94-2.06-.94 2.06-2.06.94zm-11 1L8.5 8.5l.94-2.06 2.06-.94-2.06-.94L8.5 2.5l-.94 2.06-2.06.94zm10 10l.94 2.06.94-2.06 2.06-.94-2.06-.94-.94-2.06-.94 2.06-2.06.94z\"/><path d=\"M17.41 7.96l-1.37-1.37c-.4-.4-.92-.59-1.43-.59-.52 0-1.04.2-1.43.59L10.3 9.45l-7.72 7.72c-.78.78-.78 2.05 0 2.83L4 21.41c.39.39.9.59 1.41.59.51 0 1.02-.2 1.41-.59l7.78-7.78 2.81-2.81c.8-.78.8-2.07 0-2.86zM5.41 20L4 18.59l7.72-7.72 1.47 1.35L5.41 20z\"/>\n",
       "  </svg>\n",
       "      </button>\n",
       "      \n",
       "  <style>\n",
       "    .colab-df-container {\n",
       "      display:flex;\n",
       "      flex-wrap:wrap;\n",
       "      gap: 12px;\n",
       "    }\n",
       "\n",
       "    .colab-df-convert {\n",
       "      background-color: #E8F0FE;\n",
       "      border: none;\n",
       "      border-radius: 50%;\n",
       "      cursor: pointer;\n",
       "      display: none;\n",
       "      fill: #1967D2;\n",
       "      height: 32px;\n",
       "      padding: 0 0 0 0;\n",
       "      width: 32px;\n",
       "    }\n",
       "\n",
       "    .colab-df-convert:hover {\n",
       "      background-color: #E2EBFA;\n",
       "      box-shadow: 0px 1px 2px rgba(60, 64, 67, 0.3), 0px 1px 3px 1px rgba(60, 64, 67, 0.15);\n",
       "      fill: #174EA6;\n",
       "    }\n",
       "\n",
       "    [theme=dark] .colab-df-convert {\n",
       "      background-color: #3B4455;\n",
       "      fill: #D2E3FC;\n",
       "    }\n",
       "\n",
       "    [theme=dark] .colab-df-convert:hover {\n",
       "      background-color: #434B5C;\n",
       "      box-shadow: 0px 1px 3px 1px rgba(0, 0, 0, 0.15);\n",
       "      filter: drop-shadow(0px 1px 2px rgba(0, 0, 0, 0.3));\n",
       "      fill: #FFFFFF;\n",
       "    }\n",
       "  </style>\n",
       "\n",
       "      <script>\n",
       "        const buttonEl =\n",
       "          document.querySelector('#df-8c38d990-9a22-442f-906f-7a73d659bade button.colab-df-convert');\n",
       "        buttonEl.style.display =\n",
       "          google.colab.kernel.accessAllowed ? 'block' : 'none';\n",
       "\n",
       "        async function convertToInteractive(key) {\n",
       "          const element = document.querySelector('#df-8c38d990-9a22-442f-906f-7a73d659bade');\n",
       "          const dataTable =\n",
       "            await google.colab.kernel.invokeFunction('convertToInteractive',\n",
       "                                                     [key], {});\n",
       "          if (!dataTable) return;\n",
       "\n",
       "          const docLinkHtml = 'Like what you see? Visit the ' +\n",
       "            '<a target=\"_blank\" href=https://colab.research.google.com/notebooks/data_table.ipynb>data table notebook</a>'\n",
       "            + ' to learn more about interactive tables.';\n",
       "          element.innerHTML = '';\n",
       "          dataTable['output_type'] = 'display_data';\n",
       "          await google.colab.output.renderOutput(dataTable, element);\n",
       "          const docLink = document.createElement('div');\n",
       "          docLink.innerHTML = docLinkHtml;\n",
       "          element.appendChild(docLink);\n",
       "        }\n",
       "      </script>\n",
       "    </div>\n",
       "  </div>\n",
       "  "
      ],
      "text/plain": [
       "          Date                                             Tweets\n",
       "0   2022-05-09  RT @ETRetail: Ecommerce sales gallop despite b...\n",
       "1   2022-05-09  Five very good #fundamental stocks which #trad...\n",
       "2   2022-05-09  Ecommerce sales gallop despite big rebound in ...\n",
       "3   2022-05-09  \"Rate hike was inevitable. Inflation is defini...\n",
       "4   2022-05-08  RT @ETRetail: HUL expects more sequential infl...\n",
       "..         ...                                                ...\n",
       "66  2022-04-29  RT @DalalETips: 1st Target is achieved. #Hindu...\n",
       "67  2022-04-29  1st Target is achieved. #HindustanUnilever hit...\n",
       "68  2022-04-29  RT @FinancialXpress: #HUL’s gross margins decl...\n",
       "69  2022-04-29  #HUL’s gross margins declined a sharp 300 basi...\n",
       "70  2022-04-29  #Editorial | The #health of children, particul...\n",
       "\n",
       "[71 rows x 2 columns]"
      ]
     },
     "execution_count": 107,
     "metadata": {},
     "output_type": "execute_result"
    }
   ],
   "source": [
    "data"
   ]
  },
  {
   "cell_type": "markdown",
   "metadata": {
    "id": "82vm_JwFfMa-"
   },
   "source": [
    "#### Removing special character from each tweets"
   ]
  },
  {
   "cell_type": "code",
   "execution_count": null,
   "metadata": {
    "ExecuteTime": {
     "end_time": "2021-09-22T09:38:20.001041Z",
     "start_time": "2021-09-22T09:38:19.691867Z"
    },
    "execution": {
     "iopub.execute_input": "2022-04-18T12:30:51.598963Z",
     "iopub.status.busy": "2022-04-18T12:30:51.598391Z",
     "iopub.status.idle": "2022-04-18T12:30:51.855315Z",
     "shell.execute_reply": "2022-04-18T12:30:51.854595Z",
     "shell.execute_reply.started": "2022-04-18T12:30:51.598923Z"
    },
    "id": "ukLbaymgfMa_"
   },
   "outputs": [],
   "source": [
    "data.to_csv(\"Tweets.csv\")\n",
    "cdata=pd.DataFrame(columns=['Date','Tweets'])\n",
    "total=100\n",
    "index=0\n",
    "for index,row in data.iterrows():\n",
    "    stre=row[\"Tweets\"]\n",
    "    my_new_string = re.sub('[^ a-zA-Z0-9]', '', stre)\n",
    "    temp_df = pd.DataFrame([[data[\"Date\"].iloc[index], \n",
    "                            my_new_string]], columns = ['Date','Tweets'])\n",
    "    cdata = pd.concat([cdata, temp_df], axis = 0).reset_index(drop = True)\n",
    "    # index=index+1\n",
    "#print(cdata.dtypes)"
   ]
  },
  {
   "cell_type": "markdown",
   "metadata": {
    "id": "iNfdXgo8fMbA"
   },
   "source": [
    "#### Displaying the data with date and tweets, you can notice there are multiple tweets for each day. So we will club them together later."
   ]
  },
  {
   "cell_type": "code",
   "execution_count": null,
   "metadata": {
    "ExecuteTime": {
     "end_time": "2021-09-22T09:38:20.951711Z",
     "start_time": "2021-09-22T09:38:20.940741Z"
    },
    "colab": {
     "base_uri": "https://localhost:8080/",
     "height": 424
    },
    "execution": {
     "iopub.execute_input": "2022-04-18T12:30:51.857803Z",
     "iopub.status.busy": "2022-04-18T12:30:51.857524Z",
     "iopub.status.idle": "2022-04-18T12:30:51.867956Z",
     "shell.execute_reply": "2022-04-18T12:30:51.867228Z",
     "shell.execute_reply.started": "2022-04-18T12:30:51.857768Z"
    },
    "id": "cBvBhT-4fMbB",
    "outputId": "230bf617-3763-4267-c909-6d8173a96791"
   },
   "outputs": [
    {
     "data": {
      "text/html": [
       "\n",
       "  <div id=\"df-ce10e686-0333-46e8-b195-5ff832b6983a\">\n",
       "    <div class=\"colab-df-container\">\n",
       "      <div>\n",
       "<style scoped>\n",
       "    .dataframe tbody tr th:only-of-type {\n",
       "        vertical-align: middle;\n",
       "    }\n",
       "\n",
       "    .dataframe tbody tr th {\n",
       "        vertical-align: top;\n",
       "    }\n",
       "\n",
       "    .dataframe thead th {\n",
       "        text-align: right;\n",
       "    }\n",
       "</style>\n",
       "<table border=\"1\" class=\"dataframe\">\n",
       "  <thead>\n",
       "    <tr style=\"text-align: right;\">\n",
       "      <th></th>\n",
       "      <th>Date</th>\n",
       "      <th>Tweets</th>\n",
       "    </tr>\n",
       "  </thead>\n",
       "  <tbody>\n",
       "    <tr>\n",
       "      <th>0</th>\n",
       "      <td>2022-05-09</td>\n",
       "      <td>RT ETRetail Ecommerce sales gallop despite big...</td>\n",
       "    </tr>\n",
       "    <tr>\n",
       "      <th>1</th>\n",
       "      <td>2022-05-09</td>\n",
       "      <td>Five very good fundamental stocks which tradin...</td>\n",
       "    </tr>\n",
       "    <tr>\n",
       "      <th>2</th>\n",
       "      <td>2022-05-09</td>\n",
       "      <td>Ecommerce sales gallop despite big rebound in ...</td>\n",
       "    </tr>\n",
       "    <tr>\n",
       "      <th>3</th>\n",
       "      <td>2022-05-09</td>\n",
       "      <td>Rate hike was inevitable Inflation is definite...</td>\n",
       "    </tr>\n",
       "    <tr>\n",
       "      <th>4</th>\n",
       "      <td>2022-05-08</td>\n",
       "      <td>RT ETRetail HUL expects more sequential inflat...</td>\n",
       "    </tr>\n",
       "    <tr>\n",
       "      <th>...</th>\n",
       "      <td>...</td>\n",
       "      <td>...</td>\n",
       "    </tr>\n",
       "    <tr>\n",
       "      <th>66</th>\n",
       "      <td>2022-04-29</td>\n",
       "      <td>RT DalalETips 1st Target is achieved Hindustan...</td>\n",
       "    </tr>\n",
       "    <tr>\n",
       "      <th>67</th>\n",
       "      <td>2022-04-29</td>\n",
       "      <td>1st Target is achieved HindustanUnilever hits ...</td>\n",
       "    </tr>\n",
       "    <tr>\n",
       "      <th>68</th>\n",
       "      <td>2022-04-29</td>\n",
       "      <td>RT FinancialXpress HULs gross margins declined...</td>\n",
       "    </tr>\n",
       "    <tr>\n",
       "      <th>69</th>\n",
       "      <td>2022-04-29</td>\n",
       "      <td>HULs gross margins declined a sharp 300 basis ...</td>\n",
       "    </tr>\n",
       "    <tr>\n",
       "      <th>70</th>\n",
       "      <td>2022-04-29</td>\n",
       "      <td>Editorial  The health of children particularly...</td>\n",
       "    </tr>\n",
       "  </tbody>\n",
       "</table>\n",
       "<p>71 rows × 2 columns</p>\n",
       "</div>\n",
       "      <button class=\"colab-df-convert\" onclick=\"convertToInteractive('df-ce10e686-0333-46e8-b195-5ff832b6983a')\"\n",
       "              title=\"Convert this dataframe to an interactive table.\"\n",
       "              style=\"display:none;\">\n",
       "        \n",
       "  <svg xmlns=\"http://www.w3.org/2000/svg\" height=\"24px\"viewBox=\"0 0 24 24\"\n",
       "       width=\"24px\">\n",
       "    <path d=\"M0 0h24v24H0V0z\" fill=\"none\"/>\n",
       "    <path d=\"M18.56 5.44l.94 2.06.94-2.06 2.06-.94-2.06-.94-.94-2.06-.94 2.06-2.06.94zm-11 1L8.5 8.5l.94-2.06 2.06-.94-2.06-.94L8.5 2.5l-.94 2.06-2.06.94zm10 10l.94 2.06.94-2.06 2.06-.94-2.06-.94-.94-2.06-.94 2.06-2.06.94z\"/><path d=\"M17.41 7.96l-1.37-1.37c-.4-.4-.92-.59-1.43-.59-.52 0-1.04.2-1.43.59L10.3 9.45l-7.72 7.72c-.78.78-.78 2.05 0 2.83L4 21.41c.39.39.9.59 1.41.59.51 0 1.02-.2 1.41-.59l7.78-7.78 2.81-2.81c.8-.78.8-2.07 0-2.86zM5.41 20L4 18.59l7.72-7.72 1.47 1.35L5.41 20z\"/>\n",
       "  </svg>\n",
       "      </button>\n",
       "      \n",
       "  <style>\n",
       "    .colab-df-container {\n",
       "      display:flex;\n",
       "      flex-wrap:wrap;\n",
       "      gap: 12px;\n",
       "    }\n",
       "\n",
       "    .colab-df-convert {\n",
       "      background-color: #E8F0FE;\n",
       "      border: none;\n",
       "      border-radius: 50%;\n",
       "      cursor: pointer;\n",
       "      display: none;\n",
       "      fill: #1967D2;\n",
       "      height: 32px;\n",
       "      padding: 0 0 0 0;\n",
       "      width: 32px;\n",
       "    }\n",
       "\n",
       "    .colab-df-convert:hover {\n",
       "      background-color: #E2EBFA;\n",
       "      box-shadow: 0px 1px 2px rgba(60, 64, 67, 0.3), 0px 1px 3px 1px rgba(60, 64, 67, 0.15);\n",
       "      fill: #174EA6;\n",
       "    }\n",
       "\n",
       "    [theme=dark] .colab-df-convert {\n",
       "      background-color: #3B4455;\n",
       "      fill: #D2E3FC;\n",
       "    }\n",
       "\n",
       "    [theme=dark] .colab-df-convert:hover {\n",
       "      background-color: #434B5C;\n",
       "      box-shadow: 0px 1px 3px 1px rgba(0, 0, 0, 0.15);\n",
       "      filter: drop-shadow(0px 1px 2px rgba(0, 0, 0, 0.3));\n",
       "      fill: #FFFFFF;\n",
       "    }\n",
       "  </style>\n",
       "\n",
       "      <script>\n",
       "        const buttonEl =\n",
       "          document.querySelector('#df-ce10e686-0333-46e8-b195-5ff832b6983a button.colab-df-convert');\n",
       "        buttonEl.style.display =\n",
       "          google.colab.kernel.accessAllowed ? 'block' : 'none';\n",
       "\n",
       "        async function convertToInteractive(key) {\n",
       "          const element = document.querySelector('#df-ce10e686-0333-46e8-b195-5ff832b6983a');\n",
       "          const dataTable =\n",
       "            await google.colab.kernel.invokeFunction('convertToInteractive',\n",
       "                                                     [key], {});\n",
       "          if (!dataTable) return;\n",
       "\n",
       "          const docLinkHtml = 'Like what you see? Visit the ' +\n",
       "            '<a target=\"_blank\" href=https://colab.research.google.com/notebooks/data_table.ipynb>data table notebook</a>'\n",
       "            + ' to learn more about interactive tables.';\n",
       "          element.innerHTML = '';\n",
       "          dataTable['output_type'] = 'display_data';\n",
       "          await google.colab.output.renderOutput(dataTable, element);\n",
       "          const docLink = document.createElement('div');\n",
       "          docLink.innerHTML = docLinkHtml;\n",
       "          element.appendChild(docLink);\n",
       "        }\n",
       "      </script>\n",
       "    </div>\n",
       "  </div>\n",
       "  "
      ],
      "text/plain": [
       "          Date                                             Tweets\n",
       "0   2022-05-09  RT ETRetail Ecommerce sales gallop despite big...\n",
       "1   2022-05-09  Five very good fundamental stocks which tradin...\n",
       "2   2022-05-09  Ecommerce sales gallop despite big rebound in ...\n",
       "3   2022-05-09  Rate hike was inevitable Inflation is definite...\n",
       "4   2022-05-08  RT ETRetail HUL expects more sequential inflat...\n",
       "..         ...                                                ...\n",
       "66  2022-04-29  RT DalalETips 1st Target is achieved Hindustan...\n",
       "67  2022-04-29  1st Target is achieved HindustanUnilever hits ...\n",
       "68  2022-04-29  RT FinancialXpress HULs gross margins declined...\n",
       "69  2022-04-29  HULs gross margins declined a sharp 300 basis ...\n",
       "70  2022-04-29  Editorial  The health of children particularly...\n",
       "\n",
       "[71 rows x 2 columns]"
      ]
     },
     "execution_count": 109,
     "metadata": {},
     "output_type": "execute_result"
    }
   ],
   "source": [
    "cdata"
   ]
  },
  {
   "cell_type": "markdown",
   "metadata": {
    "id": "s9M0LoUwfMbC"
   },
   "source": [
    "#### Creating a dataframe where we will combine the tweets date wise and store into"
   ]
  },
  {
   "cell_type": "code",
   "execution_count": null,
   "metadata": {
    "ExecuteTime": {
     "end_time": "2021-09-22T09:38:22.094898Z",
     "start_time": "2021-09-22T09:38:22.075919Z"
    },
    "execution": {
     "iopub.execute_input": "2022-04-18T12:30:51.869939Z",
     "iopub.status.busy": "2022-04-18T12:30:51.869474Z",
     "iopub.status.idle": "2022-04-18T12:30:51.879395Z",
     "shell.execute_reply": "2022-04-18T12:30:51.878564Z",
     "shell.execute_reply.started": "2022-04-18T12:30:51.869895Z"
    },
    "id": "EoDVSTISfMbC"
   },
   "outputs": [],
   "source": [
    "ccdata=pd.DataFrame(columns=['Date','Tweets'])"
   ]
  },
  {
   "cell_type": "code",
   "execution_count": null,
   "metadata": {
    "ExecuteTime": {
     "end_time": "2021-09-22T09:38:22.530962Z",
     "start_time": "2021-09-22T09:38:22.491788Z"
    },
    "execution": {
     "iopub.execute_input": "2022-04-18T12:30:51.881179Z",
     "iopub.status.busy": "2022-04-18T12:30:51.880876Z",
     "iopub.status.idle": "2022-04-18T12:30:51.925892Z",
     "shell.execute_reply": "2022-04-18T12:30:51.925194Z",
     "shell.execute_reply.started": "2022-04-18T12:30:51.881136Z"
    },
    "id": "IIDmSGcdfMbD"
   },
   "outputs": [],
   "source": [
    "indx=0\n",
    "get_tweet=\"\"\n",
    "for i in range(0,len(cdata)-1):\n",
    "    get_date=cdata.Date.iloc[i]\n",
    "    next_date=cdata.Date.iloc[i+1]\n",
    "    if(str(get_date)==str(next_date)):\n",
    "        get_tweet=get_tweet+cdata.Tweets.iloc[i]+\" \"\n",
    "    if(str(get_date)!=str(next_date)):\n",
    "        temp_df = pd.DataFrame([[get_date, \n",
    "                                get_tweet]], columns = ['Date','Tweets'])\n",
    "        ccdata = pd.concat([ccdata, temp_df], axis = 0).reset_index(drop = True)\n",
    "        get_tweet=\" \""
   ]
  },
  {
   "cell_type": "markdown",
   "metadata": {
    "id": "0vqHuMNxfMbE"
   },
   "source": [
    "#### All the tweets has been clubbed as per their date."
   ]
  },
  {
   "cell_type": "code",
   "execution_count": null,
   "metadata": {
    "ExecuteTime": {
     "end_time": "2021-09-22T09:38:23.249425Z",
     "start_time": "2021-09-22T09:38:23.239458Z"
    },
    "colab": {
     "base_uri": "https://localhost:8080/",
     "height": 300
    },
    "execution": {
     "iopub.execute_input": "2022-04-18T12:30:52.069583Z",
     "iopub.status.busy": "2022-04-18T12:30:52.069345Z",
     "iopub.status.idle": "2022-04-18T12:30:52.079594Z",
     "shell.execute_reply": "2022-04-18T12:30:52.078947Z",
     "shell.execute_reply.started": "2022-04-18T12:30:52.069554Z"
    },
    "id": "Bem6x1pWfMbF",
    "outputId": "2061df43-e18c-4121-d1df-a12fb1f193ed"
   },
   "outputs": [
    {
     "data": {
      "text/html": [
       "\n",
       "  <div id=\"df-6d700d71-9c82-438c-af8e-d32861016781\">\n",
       "    <div class=\"colab-df-container\">\n",
       "      <div>\n",
       "<style scoped>\n",
       "    .dataframe tbody tr th:only-of-type {\n",
       "        vertical-align: middle;\n",
       "    }\n",
       "\n",
       "    .dataframe tbody tr th {\n",
       "        vertical-align: top;\n",
       "    }\n",
       "\n",
       "    .dataframe thead th {\n",
       "        text-align: right;\n",
       "    }\n",
       "</style>\n",
       "<table border=\"1\" class=\"dataframe\">\n",
       "  <thead>\n",
       "    <tr style=\"text-align: right;\">\n",
       "      <th></th>\n",
       "      <th>Date</th>\n",
       "      <th>Tweets</th>\n",
       "    </tr>\n",
       "  </thead>\n",
       "  <tbody>\n",
       "    <tr>\n",
       "      <th>0</th>\n",
       "      <td>2022-05-09</td>\n",
       "      <td>RT ETRetail Ecommerce sales gallop despite big...</td>\n",
       "    </tr>\n",
       "    <tr>\n",
       "      <th>1</th>\n",
       "      <td>2022-05-08</td>\n",
       "      <td>RT ETRetail HUL expects more sequential infla...</td>\n",
       "    </tr>\n",
       "    <tr>\n",
       "      <th>2</th>\n",
       "      <td>2022-05-07</td>\n",
       "      <td>Consumers are no longer interested in buying ...</td>\n",
       "    </tr>\n",
       "    <tr>\n",
       "      <th>3</th>\n",
       "      <td>2022-05-04</td>\n",
       "      <td>RT ArvindChaturved HindustanUnilevers  HULchi...</td>\n",
       "    </tr>\n",
       "    <tr>\n",
       "      <th>4</th>\n",
       "      <td>2022-05-03</td>\n",
       "      <td>Adani Wilmar Ltd a packaged goods company tod...</td>\n",
       "    </tr>\n",
       "    <tr>\n",
       "      <th>5</th>\n",
       "      <td>2022-05-02</td>\n",
       "      <td>RT businesstoday Packaged foods major AdaniWi...</td>\n",
       "    </tr>\n",
       "    <tr>\n",
       "      <th>6</th>\n",
       "      <td>2022-05-01</td>\n",
       "      <td></td>\n",
       "    </tr>\n",
       "    <tr>\n",
       "      <th>7</th>\n",
       "      <td>2022-04-30</td>\n",
       "      <td>Palm oil Distributors resort to panic buying ...</td>\n",
       "    </tr>\n",
       "  </tbody>\n",
       "</table>\n",
       "</div>\n",
       "      <button class=\"colab-df-convert\" onclick=\"convertToInteractive('df-6d700d71-9c82-438c-af8e-d32861016781')\"\n",
       "              title=\"Convert this dataframe to an interactive table.\"\n",
       "              style=\"display:none;\">\n",
       "        \n",
       "  <svg xmlns=\"http://www.w3.org/2000/svg\" height=\"24px\"viewBox=\"0 0 24 24\"\n",
       "       width=\"24px\">\n",
       "    <path d=\"M0 0h24v24H0V0z\" fill=\"none\"/>\n",
       "    <path d=\"M18.56 5.44l.94 2.06.94-2.06 2.06-.94-2.06-.94-.94-2.06-.94 2.06-2.06.94zm-11 1L8.5 8.5l.94-2.06 2.06-.94-2.06-.94L8.5 2.5l-.94 2.06-2.06.94zm10 10l.94 2.06.94-2.06 2.06-.94-2.06-.94-.94-2.06-.94 2.06-2.06.94z\"/><path d=\"M17.41 7.96l-1.37-1.37c-.4-.4-.92-.59-1.43-.59-.52 0-1.04.2-1.43.59L10.3 9.45l-7.72 7.72c-.78.78-.78 2.05 0 2.83L4 21.41c.39.39.9.59 1.41.59.51 0 1.02-.2 1.41-.59l7.78-7.78 2.81-2.81c.8-.78.8-2.07 0-2.86zM5.41 20L4 18.59l7.72-7.72 1.47 1.35L5.41 20z\"/>\n",
       "  </svg>\n",
       "      </button>\n",
       "      \n",
       "  <style>\n",
       "    .colab-df-container {\n",
       "      display:flex;\n",
       "      flex-wrap:wrap;\n",
       "      gap: 12px;\n",
       "    }\n",
       "\n",
       "    .colab-df-convert {\n",
       "      background-color: #E8F0FE;\n",
       "      border: none;\n",
       "      border-radius: 50%;\n",
       "      cursor: pointer;\n",
       "      display: none;\n",
       "      fill: #1967D2;\n",
       "      height: 32px;\n",
       "      padding: 0 0 0 0;\n",
       "      width: 32px;\n",
       "    }\n",
       "\n",
       "    .colab-df-convert:hover {\n",
       "      background-color: #E2EBFA;\n",
       "      box-shadow: 0px 1px 2px rgba(60, 64, 67, 0.3), 0px 1px 3px 1px rgba(60, 64, 67, 0.15);\n",
       "      fill: #174EA6;\n",
       "    }\n",
       "\n",
       "    [theme=dark] .colab-df-convert {\n",
       "      background-color: #3B4455;\n",
       "      fill: #D2E3FC;\n",
       "    }\n",
       "\n",
       "    [theme=dark] .colab-df-convert:hover {\n",
       "      background-color: #434B5C;\n",
       "      box-shadow: 0px 1px 3px 1px rgba(0, 0, 0, 0.15);\n",
       "      filter: drop-shadow(0px 1px 2px rgba(0, 0, 0, 0.3));\n",
       "      fill: #FFFFFF;\n",
       "    }\n",
       "  </style>\n",
       "\n",
       "      <script>\n",
       "        const buttonEl =\n",
       "          document.querySelector('#df-6d700d71-9c82-438c-af8e-d32861016781 button.colab-df-convert');\n",
       "        buttonEl.style.display =\n",
       "          google.colab.kernel.accessAllowed ? 'block' : 'none';\n",
       "\n",
       "        async function convertToInteractive(key) {\n",
       "          const element = document.querySelector('#df-6d700d71-9c82-438c-af8e-d32861016781');\n",
       "          const dataTable =\n",
       "            await google.colab.kernel.invokeFunction('convertToInteractive',\n",
       "                                                     [key], {});\n",
       "          if (!dataTable) return;\n",
       "\n",
       "          const docLinkHtml = 'Like what you see? Visit the ' +\n",
       "            '<a target=\"_blank\" href=https://colab.research.google.com/notebooks/data_table.ipynb>data table notebook</a>'\n",
       "            + ' to learn more about interactive tables.';\n",
       "          element.innerHTML = '';\n",
       "          dataTable['output_type'] = 'display_data';\n",
       "          await google.colab.output.renderOutput(dataTable, element);\n",
       "          const docLink = document.createElement('div');\n",
       "          docLink.innerHTML = docLinkHtml;\n",
       "          element.appendChild(docLink);\n",
       "        }\n",
       "      </script>\n",
       "    </div>\n",
       "  </div>\n",
       "  "
      ],
      "text/plain": [
       "         Date                                             Tweets\n",
       "0  2022-05-09  RT ETRetail Ecommerce sales gallop despite big...\n",
       "1  2022-05-08   RT ETRetail HUL expects more sequential infla...\n",
       "2  2022-05-07   Consumers are no longer interested in buying ...\n",
       "3  2022-05-04   RT ArvindChaturved HindustanUnilevers  HULchi...\n",
       "4  2022-05-03   Adani Wilmar Ltd a packaged goods company tod...\n",
       "5  2022-05-02   RT businesstoday Packaged foods major AdaniWi...\n",
       "6  2022-05-01                                                   \n",
       "7  2022-04-30   Palm oil Distributors resort to panic buying ..."
      ]
     },
     "execution_count": 112,
     "metadata": {},
     "output_type": "execute_result"
    }
   ],
   "source": [
    "ccdata"
   ]
  },
  {
   "cell_type": "markdown",
   "metadata": {
    "id": "SLcjeTBwfMbF"
   },
   "source": [
    "#### Now to know the \"closing price\" of each day we will import STOCK PRICE DATA for UNITED AIRLINES from \"yahoo.finance\". We will consider \"Close\" price only."
   ]
  },
  {
   "cell_type": "code",
   "execution_count": null,
   "metadata": {
    "ExecuteTime": {
     "end_time": "2021-09-22T09:38:24.417614Z",
     "start_time": "2021-09-22T09:38:24.386698Z"
    },
    "colab": {
     "base_uri": "https://localhost:8080/",
     "height": 424
    },
    "execution": {
     "iopub.execute_input": "2022-04-18T12:30:52.432578Z",
     "iopub.status.busy": "2022-04-18T12:30:52.432326Z",
     "iopub.status.idle": "2022-04-18T12:30:52.454511Z",
     "shell.execute_reply": "2022-04-18T12:30:52.453827Z",
     "shell.execute_reply.started": "2022-04-18T12:30:52.432548Z"
    },
    "id": "CK1KFBjufMbG",
    "outputId": "ae0a05e0-c3b4-4600-f059-c83c3e0cc97b"
   },
   "outputs": [
    {
     "data": {
      "text/html": [
       "\n",
       "  <div id=\"df-95110d5d-dadb-493e-befb-1d33ee3c9bf4\">\n",
       "    <div class=\"colab-df-container\">\n",
       "      <div>\n",
       "<style scoped>\n",
       "    .dataframe tbody tr th:only-of-type {\n",
       "        vertical-align: middle;\n",
       "    }\n",
       "\n",
       "    .dataframe tbody tr th {\n",
       "        vertical-align: top;\n",
       "    }\n",
       "\n",
       "    .dataframe thead th {\n",
       "        text-align: right;\n",
       "    }\n",
       "</style>\n",
       "<table border=\"1\" class=\"dataframe\">\n",
       "  <thead>\n",
       "    <tr style=\"text-align: right;\">\n",
       "      <th></th>\n",
       "      <th>Date</th>\n",
       "      <th>Open</th>\n",
       "      <th>High</th>\n",
       "      <th>Low</th>\n",
       "      <th>Close</th>\n",
       "      <th>Adj Close</th>\n",
       "      <th>Volume</th>\n",
       "    </tr>\n",
       "  </thead>\n",
       "  <tbody>\n",
       "    <tr>\n",
       "      <th>0</th>\n",
       "      <td>2021-05-10</td>\n",
       "      <td>2423.000000</td>\n",
       "      <td>2446.949951</td>\n",
       "      <td>2416.000000</td>\n",
       "      <td>2432.899902</td>\n",
       "      <td>2400.669678</td>\n",
       "      <td>988495</td>\n",
       "    </tr>\n",
       "    <tr>\n",
       "      <th>1</th>\n",
       "      <td>2021-05-11</td>\n",
       "      <td>2425.000000</td>\n",
       "      <td>2426.000000</td>\n",
       "      <td>2394.250000</td>\n",
       "      <td>2402.100098</td>\n",
       "      <td>2370.278076</td>\n",
       "      <td>1019077</td>\n",
       "    </tr>\n",
       "    <tr>\n",
       "      <th>2</th>\n",
       "      <td>2021-05-12</td>\n",
       "      <td>2389.000000</td>\n",
       "      <td>2389.000000</td>\n",
       "      <td>2325.050049</td>\n",
       "      <td>2328.949951</td>\n",
       "      <td>2298.096924</td>\n",
       "      <td>2053932</td>\n",
       "    </tr>\n",
       "    <tr>\n",
       "      <th>3</th>\n",
       "      <td>2021-05-14</td>\n",
       "      <td>2328.899902</td>\n",
       "      <td>2382.399902</td>\n",
       "      <td>2326.000000</td>\n",
       "      <td>2376.850098</td>\n",
       "      <td>2345.362549</td>\n",
       "      <td>1388970</td>\n",
       "    </tr>\n",
       "    <tr>\n",
       "      <th>4</th>\n",
       "      <td>2021-05-17</td>\n",
       "      <td>2385.000000</td>\n",
       "      <td>2395.000000</td>\n",
       "      <td>2366.500000</td>\n",
       "      <td>2376.250000</td>\n",
       "      <td>2344.770264</td>\n",
       "      <td>811243</td>\n",
       "    </tr>\n",
       "    <tr>\n",
       "      <th>...</th>\n",
       "      <td>...</td>\n",
       "      <td>...</td>\n",
       "      <td>...</td>\n",
       "      <td>...</td>\n",
       "      <td>...</td>\n",
       "      <td>...</td>\n",
       "      <td>...</td>\n",
       "    </tr>\n",
       "    <tr>\n",
       "      <th>243</th>\n",
       "      <td>2022-05-02</td>\n",
       "      <td>2220.000000</td>\n",
       "      <td>2252.000000</td>\n",
       "      <td>2205.899902</td>\n",
       "      <td>2230.500000</td>\n",
       "      <td>2230.500000</td>\n",
       "      <td>1543544</td>\n",
       "    </tr>\n",
       "    <tr>\n",
       "      <th>244</th>\n",
       "      <td>2022-05-04</td>\n",
       "      <td>2241.949951</td>\n",
       "      <td>2250.850098</td>\n",
       "      <td>2148.649902</td>\n",
       "      <td>2171.550049</td>\n",
       "      <td>2171.550049</td>\n",
       "      <td>1608395</td>\n",
       "    </tr>\n",
       "    <tr>\n",
       "      <th>245</th>\n",
       "      <td>2022-05-05</td>\n",
       "      <td>2178.000000</td>\n",
       "      <td>2201.949951</td>\n",
       "      <td>2153.600098</td>\n",
       "      <td>2166.600098</td>\n",
       "      <td>2166.600098</td>\n",
       "      <td>1101451</td>\n",
       "    </tr>\n",
       "    <tr>\n",
       "      <th>246</th>\n",
       "      <td>2022-05-06</td>\n",
       "      <td>2125.000000</td>\n",
       "      <td>2170.000000</td>\n",
       "      <td>2106.199951</td>\n",
       "      <td>2149.199951</td>\n",
       "      <td>2149.199951</td>\n",
       "      <td>1585602</td>\n",
       "    </tr>\n",
       "    <tr>\n",
       "      <th>247</th>\n",
       "      <td>2022-05-09</td>\n",
       "      <td>2121.500000</td>\n",
       "      <td>2139.399902</td>\n",
       "      <td>2110.149902</td>\n",
       "      <td>2116.649902</td>\n",
       "      <td>2116.649902</td>\n",
       "      <td>1341414</td>\n",
       "    </tr>\n",
       "  </tbody>\n",
       "</table>\n",
       "<p>248 rows × 7 columns</p>\n",
       "</div>\n",
       "      <button class=\"colab-df-convert\" onclick=\"convertToInteractive('df-95110d5d-dadb-493e-befb-1d33ee3c9bf4')\"\n",
       "              title=\"Convert this dataframe to an interactive table.\"\n",
       "              style=\"display:none;\">\n",
       "        \n",
       "  <svg xmlns=\"http://www.w3.org/2000/svg\" height=\"24px\"viewBox=\"0 0 24 24\"\n",
       "       width=\"24px\">\n",
       "    <path d=\"M0 0h24v24H0V0z\" fill=\"none\"/>\n",
       "    <path d=\"M18.56 5.44l.94 2.06.94-2.06 2.06-.94-2.06-.94-.94-2.06-.94 2.06-2.06.94zm-11 1L8.5 8.5l.94-2.06 2.06-.94-2.06-.94L8.5 2.5l-.94 2.06-2.06.94zm10 10l.94 2.06.94-2.06 2.06-.94-2.06-.94-.94-2.06-.94 2.06-2.06.94z\"/><path d=\"M17.41 7.96l-1.37-1.37c-.4-.4-.92-.59-1.43-.59-.52 0-1.04.2-1.43.59L10.3 9.45l-7.72 7.72c-.78.78-.78 2.05 0 2.83L4 21.41c.39.39.9.59 1.41.59.51 0 1.02-.2 1.41-.59l7.78-7.78 2.81-2.81c.8-.78.8-2.07 0-2.86zM5.41 20L4 18.59l7.72-7.72 1.47 1.35L5.41 20z\"/>\n",
       "  </svg>\n",
       "      </button>\n",
       "      \n",
       "  <style>\n",
       "    .colab-df-container {\n",
       "      display:flex;\n",
       "      flex-wrap:wrap;\n",
       "      gap: 12px;\n",
       "    }\n",
       "\n",
       "    .colab-df-convert {\n",
       "      background-color: #E8F0FE;\n",
       "      border: none;\n",
       "      border-radius: 50%;\n",
       "      cursor: pointer;\n",
       "      display: none;\n",
       "      fill: #1967D2;\n",
       "      height: 32px;\n",
       "      padding: 0 0 0 0;\n",
       "      width: 32px;\n",
       "    }\n",
       "\n",
       "    .colab-df-convert:hover {\n",
       "      background-color: #E2EBFA;\n",
       "      box-shadow: 0px 1px 2px rgba(60, 64, 67, 0.3), 0px 1px 3px 1px rgba(60, 64, 67, 0.15);\n",
       "      fill: #174EA6;\n",
       "    }\n",
       "\n",
       "    [theme=dark] .colab-df-convert {\n",
       "      background-color: #3B4455;\n",
       "      fill: #D2E3FC;\n",
       "    }\n",
       "\n",
       "    [theme=dark] .colab-df-convert:hover {\n",
       "      background-color: #434B5C;\n",
       "      box-shadow: 0px 1px 3px 1px rgba(0, 0, 0, 0.15);\n",
       "      filter: drop-shadow(0px 1px 2px rgba(0, 0, 0, 0.3));\n",
       "      fill: #FFFFFF;\n",
       "    }\n",
       "  </style>\n",
       "\n",
       "      <script>\n",
       "        const buttonEl =\n",
       "          document.querySelector('#df-95110d5d-dadb-493e-befb-1d33ee3c9bf4 button.colab-df-convert');\n",
       "        buttonEl.style.display =\n",
       "          google.colab.kernel.accessAllowed ? 'block' : 'none';\n",
       "\n",
       "        async function convertToInteractive(key) {\n",
       "          const element = document.querySelector('#df-95110d5d-dadb-493e-befb-1d33ee3c9bf4');\n",
       "          const dataTable =\n",
       "            await google.colab.kernel.invokeFunction('convertToInteractive',\n",
       "                                                     [key], {});\n",
       "          if (!dataTable) return;\n",
       "\n",
       "          const docLinkHtml = 'Like what you see? Visit the ' +\n",
       "            '<a target=\"_blank\" href=https://colab.research.google.com/notebooks/data_table.ipynb>data table notebook</a>'\n",
       "            + ' to learn more about interactive tables.';\n",
       "          element.innerHTML = '';\n",
       "          dataTable['output_type'] = 'display_data';\n",
       "          await google.colab.output.renderOutput(dataTable, element);\n",
       "          const docLink = document.createElement('div');\n",
       "          docLink.innerHTML = docLinkHtml;\n",
       "          element.appendChild(docLink);\n",
       "        }\n",
       "      </script>\n",
       "    </div>\n",
       "  </div>\n",
       "  "
      ],
      "text/plain": [
       "           Date         Open         High          Low        Close  \\\n",
       "0    2021-05-10  2423.000000  2446.949951  2416.000000  2432.899902   \n",
       "1    2021-05-11  2425.000000  2426.000000  2394.250000  2402.100098   \n",
       "2    2021-05-12  2389.000000  2389.000000  2325.050049  2328.949951   \n",
       "3    2021-05-14  2328.899902  2382.399902  2326.000000  2376.850098   \n",
       "4    2021-05-17  2385.000000  2395.000000  2366.500000  2376.250000   \n",
       "..          ...          ...          ...          ...          ...   \n",
       "243  2022-05-02  2220.000000  2252.000000  2205.899902  2230.500000   \n",
       "244  2022-05-04  2241.949951  2250.850098  2148.649902  2171.550049   \n",
       "245  2022-05-05  2178.000000  2201.949951  2153.600098  2166.600098   \n",
       "246  2022-05-06  2125.000000  2170.000000  2106.199951  2149.199951   \n",
       "247  2022-05-09  2121.500000  2139.399902  2110.149902  2116.649902   \n",
       "\n",
       "       Adj Close   Volume  \n",
       "0    2400.669678   988495  \n",
       "1    2370.278076  1019077  \n",
       "2    2298.096924  2053932  \n",
       "3    2345.362549  1388970  \n",
       "4    2344.770264   811243  \n",
       "..           ...      ...  \n",
       "243  2230.500000  1543544  \n",
       "244  2171.550049  1608395  \n",
       "245  2166.600098  1101451  \n",
       "246  2149.199951  1585602  \n",
       "247  2116.649902  1341414  \n",
       "\n",
       "[248 rows x 7 columns]"
      ]
     },
     "execution_count": 113,
     "metadata": {},
     "output_type": "execute_result"
    }
   ],
   "source": [
    "read_stock_p=pd.read_csv('/content/HINDUNILVR.NS.csv')\n",
    "# DOWNLOAD UPDATED CLOSE PRICE FROM https://finance.yahoo.com/quote/UAL/history?period1=1598918400&period2=1632268800&interval=1d&filter=history&frequency=1d&includeAdjustedClose=true\n",
    "read_stock_p"
   ]
  },
  {
   "cell_type": "markdown",
   "metadata": {
    "id": "CF2crDcAfMbH"
   },
   "source": [
    "#### Adding a \"Price\" column in our dataframe and fetching the stock price as per the date in our dataframe."
   ]
  },
  {
   "cell_type": "code",
   "execution_count": null,
   "metadata": {
    "ExecuteTime": {
     "end_time": "2021-09-22T09:38:25.665268Z",
     "start_time": "2021-09-22T09:38:25.661310Z"
    },
    "execution": {
     "iopub.execute_input": "2022-04-18T12:30:52.790283Z",
     "iopub.status.busy": "2022-04-18T12:30:52.789601Z",
     "iopub.status.idle": "2022-04-18T12:30:52.795377Z",
     "shell.execute_reply": "2022-04-18T12:30:52.794535Z",
     "shell.execute_reply.started": "2022-04-18T12:30:52.790236Z"
    },
    "id": "mvNQR_kKfMbI"
   },
   "outputs": [],
   "source": [
    "ccdata['Prices']=\"\""
   ]
  },
  {
   "cell_type": "code",
   "execution_count": null,
   "metadata": {
    "ExecuteTime": {
     "end_time": "2021-09-22T09:39:33.585643Z",
     "start_time": "2021-09-22T09:39:33.509806Z"
    },
    "execution": {
     "iopub.execute_input": "2022-04-18T12:30:53.120421Z",
     "iopub.status.busy": "2022-04-18T12:30:53.120174Z",
     "iopub.status.idle": "2022-04-18T12:30:53.264377Z",
     "shell.execute_reply": "2022-04-18T12:30:53.263670Z",
     "shell.execute_reply.started": "2022-04-18T12:30:53.120393Z"
    },
    "id": "4tS28UGQfMbI"
   },
   "outputs": [],
   "source": [
    "indx=0\n",
    "for i in range (0,len(ccdata)):\n",
    "    for j in range (0,len(read_stock_p)):\n",
    "        get_tweet_date=ccdata.Date.iloc[i]\n",
    "        get_stock_date=read_stock_p.Date.iloc[j]\n",
    "        if(str(get_stock_date)==str(get_tweet_date)):\n",
    "            #print(get_stock_date,\" \",get_tweet_date)\n",
    "            # ccdata.set_value(i,'Prices',int(read_stock_p.Close[j]))\n",
    "            ccdata['Prices'].iloc[i] = int(read_stock_p.Close[j])"
   ]
  },
  {
   "cell_type": "markdown",
   "metadata": {
    "id": "BOU4GfXjfMbJ"
   },
   "source": [
    "#### Prices are fetched but some entires are blank as close price might not be available for that day due to some reason (like holiday, etc.)"
   ]
  },
  {
   "cell_type": "code",
   "execution_count": null,
   "metadata": {
    "ExecuteTime": {
     "end_time": "2021-09-22T09:39:34.774346Z",
     "start_time": "2021-09-22T09:39:34.754395Z"
    },
    "colab": {
     "base_uri": "https://localhost:8080/",
     "height": 300
    },
    "execution": {
     "iopub.execute_input": "2022-04-18T12:30:53.471295Z",
     "iopub.status.busy": "2022-04-18T12:30:53.470992Z",
     "iopub.status.idle": "2022-04-18T12:30:53.481416Z",
     "shell.execute_reply": "2022-04-18T12:30:53.480417Z",
     "shell.execute_reply.started": "2022-04-18T12:30:53.471267Z"
    },
    "id": "RkjzhCcHfMbK",
    "outputId": "b61fe1e2-63c3-462c-a978-3f163ac38df0",
    "scrolled": true
   },
   "outputs": [
    {
     "data": {
      "text/html": [
       "\n",
       "  <div id=\"df-87efc8a0-01fb-461a-8c71-06c98c5a4609\">\n",
       "    <div class=\"colab-df-container\">\n",
       "      <div>\n",
       "<style scoped>\n",
       "    .dataframe tbody tr th:only-of-type {\n",
       "        vertical-align: middle;\n",
       "    }\n",
       "\n",
       "    .dataframe tbody tr th {\n",
       "        vertical-align: top;\n",
       "    }\n",
       "\n",
       "    .dataframe thead th {\n",
       "        text-align: right;\n",
       "    }\n",
       "</style>\n",
       "<table border=\"1\" class=\"dataframe\">\n",
       "  <thead>\n",
       "    <tr style=\"text-align: right;\">\n",
       "      <th></th>\n",
       "      <th>Date</th>\n",
       "      <th>Tweets</th>\n",
       "      <th>Prices</th>\n",
       "    </tr>\n",
       "  </thead>\n",
       "  <tbody>\n",
       "    <tr>\n",
       "      <th>0</th>\n",
       "      <td>2022-05-09</td>\n",
       "      <td>RT ETRetail Ecommerce sales gallop despite big...</td>\n",
       "      <td>2116</td>\n",
       "    </tr>\n",
       "    <tr>\n",
       "      <th>1</th>\n",
       "      <td>2022-05-08</td>\n",
       "      <td>RT ETRetail HUL expects more sequential infla...</td>\n",
       "      <td></td>\n",
       "    </tr>\n",
       "    <tr>\n",
       "      <th>2</th>\n",
       "      <td>2022-05-07</td>\n",
       "      <td>Consumers are no longer interested in buying ...</td>\n",
       "      <td></td>\n",
       "    </tr>\n",
       "    <tr>\n",
       "      <th>3</th>\n",
       "      <td>2022-05-04</td>\n",
       "      <td>RT ArvindChaturved HindustanUnilevers  HULchi...</td>\n",
       "      <td>2171</td>\n",
       "    </tr>\n",
       "    <tr>\n",
       "      <th>4</th>\n",
       "      <td>2022-05-03</td>\n",
       "      <td>Adani Wilmar Ltd a packaged goods company tod...</td>\n",
       "      <td></td>\n",
       "    </tr>\n",
       "    <tr>\n",
       "      <th>5</th>\n",
       "      <td>2022-05-02</td>\n",
       "      <td>RT businesstoday Packaged foods major AdaniWi...</td>\n",
       "      <td>2230</td>\n",
       "    </tr>\n",
       "    <tr>\n",
       "      <th>6</th>\n",
       "      <td>2022-05-01</td>\n",
       "      <td></td>\n",
       "      <td></td>\n",
       "    </tr>\n",
       "    <tr>\n",
       "      <th>7</th>\n",
       "      <td>2022-04-30</td>\n",
       "      <td>Palm oil Distributors resort to panic buying ...</td>\n",
       "      <td></td>\n",
       "    </tr>\n",
       "  </tbody>\n",
       "</table>\n",
       "</div>\n",
       "      <button class=\"colab-df-convert\" onclick=\"convertToInteractive('df-87efc8a0-01fb-461a-8c71-06c98c5a4609')\"\n",
       "              title=\"Convert this dataframe to an interactive table.\"\n",
       "              style=\"display:none;\">\n",
       "        \n",
       "  <svg xmlns=\"http://www.w3.org/2000/svg\" height=\"24px\"viewBox=\"0 0 24 24\"\n",
       "       width=\"24px\">\n",
       "    <path d=\"M0 0h24v24H0V0z\" fill=\"none\"/>\n",
       "    <path d=\"M18.56 5.44l.94 2.06.94-2.06 2.06-.94-2.06-.94-.94-2.06-.94 2.06-2.06.94zm-11 1L8.5 8.5l.94-2.06 2.06-.94-2.06-.94L8.5 2.5l-.94 2.06-2.06.94zm10 10l.94 2.06.94-2.06 2.06-.94-2.06-.94-.94-2.06-.94 2.06-2.06.94z\"/><path d=\"M17.41 7.96l-1.37-1.37c-.4-.4-.92-.59-1.43-.59-.52 0-1.04.2-1.43.59L10.3 9.45l-7.72 7.72c-.78.78-.78 2.05 0 2.83L4 21.41c.39.39.9.59 1.41.59.51 0 1.02-.2 1.41-.59l7.78-7.78 2.81-2.81c.8-.78.8-2.07 0-2.86zM5.41 20L4 18.59l7.72-7.72 1.47 1.35L5.41 20z\"/>\n",
       "  </svg>\n",
       "      </button>\n",
       "      \n",
       "  <style>\n",
       "    .colab-df-container {\n",
       "      display:flex;\n",
       "      flex-wrap:wrap;\n",
       "      gap: 12px;\n",
       "    }\n",
       "\n",
       "    .colab-df-convert {\n",
       "      background-color: #E8F0FE;\n",
       "      border: none;\n",
       "      border-radius: 50%;\n",
       "      cursor: pointer;\n",
       "      display: none;\n",
       "      fill: #1967D2;\n",
       "      height: 32px;\n",
       "      padding: 0 0 0 0;\n",
       "      width: 32px;\n",
       "    }\n",
       "\n",
       "    .colab-df-convert:hover {\n",
       "      background-color: #E2EBFA;\n",
       "      box-shadow: 0px 1px 2px rgba(60, 64, 67, 0.3), 0px 1px 3px 1px rgba(60, 64, 67, 0.15);\n",
       "      fill: #174EA6;\n",
       "    }\n",
       "\n",
       "    [theme=dark] .colab-df-convert {\n",
       "      background-color: #3B4455;\n",
       "      fill: #D2E3FC;\n",
       "    }\n",
       "\n",
       "    [theme=dark] .colab-df-convert:hover {\n",
       "      background-color: #434B5C;\n",
       "      box-shadow: 0px 1px 3px 1px rgba(0, 0, 0, 0.15);\n",
       "      filter: drop-shadow(0px 1px 2px rgba(0, 0, 0, 0.3));\n",
       "      fill: #FFFFFF;\n",
       "    }\n",
       "  </style>\n",
       "\n",
       "      <script>\n",
       "        const buttonEl =\n",
       "          document.querySelector('#df-87efc8a0-01fb-461a-8c71-06c98c5a4609 button.colab-df-convert');\n",
       "        buttonEl.style.display =\n",
       "          google.colab.kernel.accessAllowed ? 'block' : 'none';\n",
       "\n",
       "        async function convertToInteractive(key) {\n",
       "          const element = document.querySelector('#df-87efc8a0-01fb-461a-8c71-06c98c5a4609');\n",
       "          const dataTable =\n",
       "            await google.colab.kernel.invokeFunction('convertToInteractive',\n",
       "                                                     [key], {});\n",
       "          if (!dataTable) return;\n",
       "\n",
       "          const docLinkHtml = 'Like what you see? Visit the ' +\n",
       "            '<a target=\"_blank\" href=https://colab.research.google.com/notebooks/data_table.ipynb>data table notebook</a>'\n",
       "            + ' to learn more about interactive tables.';\n",
       "          element.innerHTML = '';\n",
       "          dataTable['output_type'] = 'display_data';\n",
       "          await google.colab.output.renderOutput(dataTable, element);\n",
       "          const docLink = document.createElement('div');\n",
       "          docLink.innerHTML = docLinkHtml;\n",
       "          element.appendChild(docLink);\n",
       "        }\n",
       "      </script>\n",
       "    </div>\n",
       "  </div>\n",
       "  "
      ],
      "text/plain": [
       "         Date                                             Tweets Prices\n",
       "0  2022-05-09  RT ETRetail Ecommerce sales gallop despite big...   2116\n",
       "1  2022-05-08   RT ETRetail HUL expects more sequential infla...       \n",
       "2  2022-05-07   Consumers are no longer interested in buying ...       \n",
       "3  2022-05-04   RT ArvindChaturved HindustanUnilevers  HULchi...   2171\n",
       "4  2022-05-03   Adani Wilmar Ltd a packaged goods company tod...       \n",
       "5  2022-05-02   RT businesstoday Packaged foods major AdaniWi...   2230\n",
       "6  2022-05-01                                                          \n",
       "7  2022-04-30   Palm oil Distributors resort to panic buying ...       "
      ]
     },
     "execution_count": 116,
     "metadata": {},
     "output_type": "execute_result"
    }
   ],
   "source": [
    "ccdata"
   ]
  },
  {
   "cell_type": "markdown",
   "metadata": {
    "id": "-nenG2xVfMbK"
   },
   "source": [
    "#### So we take the mean for the close price and put it in the blank value"
   ]
  },
  {
   "cell_type": "code",
   "execution_count": null,
   "metadata": {
    "ExecuteTime": {
     "end_time": "2021-09-22T09:39:37.144442Z",
     "start_time": "2021-09-22T09:39:37.126487Z"
    },
    "execution": {
     "iopub.execute_input": "2022-04-18T12:30:53.820503Z",
     "iopub.status.busy": "2022-04-18T12:30:53.820273Z",
     "iopub.status.idle": "2022-04-18T12:30:53.831157Z",
     "shell.execute_reply": "2022-04-18T12:30:53.830394Z",
     "shell.execute_reply.started": "2022-04-18T12:30:53.820475Z"
    },
    "id": "4BPim-3EfMbL"
   },
   "outputs": [],
   "source": [
    "mean=0\n",
    "summ=0\n",
    "count=0\n",
    "for i in range(0,len(ccdata)):\n",
    "    if(ccdata.Prices.iloc[i]!=\"\"):\n",
    "        summ=summ+int(ccdata.Prices.iloc[i])\n",
    "        count=count+1\n",
    "mean=summ/count\n",
    "for i in range(0,len(ccdata)):\n",
    "    if(ccdata.Prices.iloc[i]==\"\"):\n",
    "        ccdata.Prices.iloc[i]=int(mean)"
   ]
  },
  {
   "cell_type": "markdown",
   "metadata": {
    "id": "pXR0hnshfMbM"
   },
   "source": [
    "#### Now all the entries have some value"
   ]
  },
  {
   "cell_type": "code",
   "execution_count": null,
   "metadata": {
    "ExecuteTime": {
     "end_time": "2021-09-22T09:39:39.559565Z",
     "start_time": "2021-09-22T09:39:39.547599Z"
    },
    "colab": {
     "base_uri": "https://localhost:8080/",
     "height": 300
    },
    "execution": {
     "iopub.execute_input": "2022-04-18T12:30:54.152792Z",
     "iopub.status.busy": "2022-04-18T12:30:54.152392Z",
     "iopub.status.idle": "2022-04-18T12:30:54.162199Z",
     "shell.execute_reply": "2022-04-18T12:30:54.161441Z",
     "shell.execute_reply.started": "2022-04-18T12:30:54.152757Z"
    },
    "id": "FVujiK8HfMbM",
    "outputId": "ff46156d-6b2b-4b2c-cec6-448f74217b46"
   },
   "outputs": [
    {
     "data": {
      "text/html": [
       "\n",
       "  <div id=\"df-822bc037-b230-484b-9211-c3806246361f\">\n",
       "    <div class=\"colab-df-container\">\n",
       "      <div>\n",
       "<style scoped>\n",
       "    .dataframe tbody tr th:only-of-type {\n",
       "        vertical-align: middle;\n",
       "    }\n",
       "\n",
       "    .dataframe tbody tr th {\n",
       "        vertical-align: top;\n",
       "    }\n",
       "\n",
       "    .dataframe thead th {\n",
       "        text-align: right;\n",
       "    }\n",
       "</style>\n",
       "<table border=\"1\" class=\"dataframe\">\n",
       "  <thead>\n",
       "    <tr style=\"text-align: right;\">\n",
       "      <th></th>\n",
       "      <th>Date</th>\n",
       "      <th>Tweets</th>\n",
       "      <th>Prices</th>\n",
       "    </tr>\n",
       "  </thead>\n",
       "  <tbody>\n",
       "    <tr>\n",
       "      <th>0</th>\n",
       "      <td>2022-05-09</td>\n",
       "      <td>RT ETRetail Ecommerce sales gallop despite big...</td>\n",
       "      <td>2116</td>\n",
       "    </tr>\n",
       "    <tr>\n",
       "      <th>1</th>\n",
       "      <td>2022-05-08</td>\n",
       "      <td>RT ETRetail HUL expects more sequential infla...</td>\n",
       "      <td>2172</td>\n",
       "    </tr>\n",
       "    <tr>\n",
       "      <th>2</th>\n",
       "      <td>2022-05-07</td>\n",
       "      <td>Consumers are no longer interested in buying ...</td>\n",
       "      <td>2172</td>\n",
       "    </tr>\n",
       "    <tr>\n",
       "      <th>3</th>\n",
       "      <td>2022-05-04</td>\n",
       "      <td>RT ArvindChaturved HindustanUnilevers  HULchi...</td>\n",
       "      <td>2171</td>\n",
       "    </tr>\n",
       "    <tr>\n",
       "      <th>4</th>\n",
       "      <td>2022-05-03</td>\n",
       "      <td>Adani Wilmar Ltd a packaged goods company tod...</td>\n",
       "      <td>2172</td>\n",
       "    </tr>\n",
       "    <tr>\n",
       "      <th>5</th>\n",
       "      <td>2022-05-02</td>\n",
       "      <td>RT businesstoday Packaged foods major AdaniWi...</td>\n",
       "      <td>2230</td>\n",
       "    </tr>\n",
       "    <tr>\n",
       "      <th>6</th>\n",
       "      <td>2022-05-01</td>\n",
       "      <td></td>\n",
       "      <td>2172</td>\n",
       "    </tr>\n",
       "    <tr>\n",
       "      <th>7</th>\n",
       "      <td>2022-04-30</td>\n",
       "      <td>Palm oil Distributors resort to panic buying ...</td>\n",
       "      <td>2172</td>\n",
       "    </tr>\n",
       "  </tbody>\n",
       "</table>\n",
       "</div>\n",
       "      <button class=\"colab-df-convert\" onclick=\"convertToInteractive('df-822bc037-b230-484b-9211-c3806246361f')\"\n",
       "              title=\"Convert this dataframe to an interactive table.\"\n",
       "              style=\"display:none;\">\n",
       "        \n",
       "  <svg xmlns=\"http://www.w3.org/2000/svg\" height=\"24px\"viewBox=\"0 0 24 24\"\n",
       "       width=\"24px\">\n",
       "    <path d=\"M0 0h24v24H0V0z\" fill=\"none\"/>\n",
       "    <path d=\"M18.56 5.44l.94 2.06.94-2.06 2.06-.94-2.06-.94-.94-2.06-.94 2.06-2.06.94zm-11 1L8.5 8.5l.94-2.06 2.06-.94-2.06-.94L8.5 2.5l-.94 2.06-2.06.94zm10 10l.94 2.06.94-2.06 2.06-.94-2.06-.94-.94-2.06-.94 2.06-2.06.94z\"/><path d=\"M17.41 7.96l-1.37-1.37c-.4-.4-.92-.59-1.43-.59-.52 0-1.04.2-1.43.59L10.3 9.45l-7.72 7.72c-.78.78-.78 2.05 0 2.83L4 21.41c.39.39.9.59 1.41.59.51 0 1.02-.2 1.41-.59l7.78-7.78 2.81-2.81c.8-.78.8-2.07 0-2.86zM5.41 20L4 18.59l7.72-7.72 1.47 1.35L5.41 20z\"/>\n",
       "  </svg>\n",
       "      </button>\n",
       "      \n",
       "  <style>\n",
       "    .colab-df-container {\n",
       "      display:flex;\n",
       "      flex-wrap:wrap;\n",
       "      gap: 12px;\n",
       "    }\n",
       "\n",
       "    .colab-df-convert {\n",
       "      background-color: #E8F0FE;\n",
       "      border: none;\n",
       "      border-radius: 50%;\n",
       "      cursor: pointer;\n",
       "      display: none;\n",
       "      fill: #1967D2;\n",
       "      height: 32px;\n",
       "      padding: 0 0 0 0;\n",
       "      width: 32px;\n",
       "    }\n",
       "\n",
       "    .colab-df-convert:hover {\n",
       "      background-color: #E2EBFA;\n",
       "      box-shadow: 0px 1px 2px rgba(60, 64, 67, 0.3), 0px 1px 3px 1px rgba(60, 64, 67, 0.15);\n",
       "      fill: #174EA6;\n",
       "    }\n",
       "\n",
       "    [theme=dark] .colab-df-convert {\n",
       "      background-color: #3B4455;\n",
       "      fill: #D2E3FC;\n",
       "    }\n",
       "\n",
       "    [theme=dark] .colab-df-convert:hover {\n",
       "      background-color: #434B5C;\n",
       "      box-shadow: 0px 1px 3px 1px rgba(0, 0, 0, 0.15);\n",
       "      filter: drop-shadow(0px 1px 2px rgba(0, 0, 0, 0.3));\n",
       "      fill: #FFFFFF;\n",
       "    }\n",
       "  </style>\n",
       "\n",
       "      <script>\n",
       "        const buttonEl =\n",
       "          document.querySelector('#df-822bc037-b230-484b-9211-c3806246361f button.colab-df-convert');\n",
       "        buttonEl.style.display =\n",
       "          google.colab.kernel.accessAllowed ? 'block' : 'none';\n",
       "\n",
       "        async function convertToInteractive(key) {\n",
       "          const element = document.querySelector('#df-822bc037-b230-484b-9211-c3806246361f');\n",
       "          const dataTable =\n",
       "            await google.colab.kernel.invokeFunction('convertToInteractive',\n",
       "                                                     [key], {});\n",
       "          if (!dataTable) return;\n",
       "\n",
       "          const docLinkHtml = 'Like what you see? Visit the ' +\n",
       "            '<a target=\"_blank\" href=https://colab.research.google.com/notebooks/data_table.ipynb>data table notebook</a>'\n",
       "            + ' to learn more about interactive tables.';\n",
       "          element.innerHTML = '';\n",
       "          dataTable['output_type'] = 'display_data';\n",
       "          await google.colab.output.renderOutput(dataTable, element);\n",
       "          const docLink = document.createElement('div');\n",
       "          docLink.innerHTML = docLinkHtml;\n",
       "          element.appendChild(docLink);\n",
       "        }\n",
       "      </script>\n",
       "    </div>\n",
       "  </div>\n",
       "  "
      ],
      "text/plain": [
       "         Date                                             Tweets Prices\n",
       "0  2022-05-09  RT ETRetail Ecommerce sales gallop despite big...   2116\n",
       "1  2022-05-08   RT ETRetail HUL expects more sequential infla...   2172\n",
       "2  2022-05-07   Consumers are no longer interested in buying ...   2172\n",
       "3  2022-05-04   RT ArvindChaturved HindustanUnilevers  HULchi...   2171\n",
       "4  2022-05-03   Adani Wilmar Ltd a packaged goods company tod...   2172\n",
       "5  2022-05-02   RT businesstoday Packaged foods major AdaniWi...   2230\n",
       "6  2022-05-01                                                      2172\n",
       "7  2022-04-30   Palm oil Distributors resort to panic buying ...   2172"
      ]
     },
     "execution_count": 118,
     "metadata": {},
     "output_type": "execute_result"
    }
   ],
   "source": [
    "ccdata"
   ]
  },
  {
   "cell_type": "markdown",
   "metadata": {
    "id": "6Hs0jXbbfMbN"
   },
   "source": [
    "#### Making \"prices\" column as integer so mathematical operations could be performed easily."
   ]
  },
  {
   "cell_type": "code",
   "execution_count": null,
   "metadata": {
    "ExecuteTime": {
     "end_time": "2021-09-22T09:39:41.884443Z",
     "start_time": "2021-09-22T09:39:41.873474Z"
    },
    "execution": {
     "iopub.execute_input": "2022-04-18T12:30:54.480896Z",
     "iopub.status.busy": "2022-04-18T12:30:54.480274Z",
     "iopub.status.idle": "2022-04-18T12:30:54.487501Z",
     "shell.execute_reply": "2022-04-18T12:30:54.486693Z",
     "shell.execute_reply.started": "2022-04-18T12:30:54.480859Z"
    },
    "id": "uUNLC0ImfMbN"
   },
   "outputs": [],
   "source": [
    "ccdata['Prices'] = ccdata['Prices'].apply(np.int64)"
   ]
  },
  {
   "cell_type": "markdown",
   "metadata": {
    "id": "JI-dYJkefMbN"
   },
   "source": [
    "#### Adding 4 new columns in our dataframe so that sentiment analysis could be performed.. Comp is \"Compound\" it will tell whether the statement is overall negative or positive. If it has negative value then it is negative, if it has positive value then it is positive. If it has value 0, then it is neutral."
   ]
  },
  {
   "cell_type": "code",
   "execution_count": null,
   "metadata": {
    "ExecuteTime": {
     "end_time": "2021-09-22T09:39:42.917283Z",
     "start_time": "2021-09-22T09:39:42.894365Z"
    },
    "colab": {
     "base_uri": "https://localhost:8080/",
     "height": 300
    },
    "execution": {
     "iopub.execute_input": "2022-04-18T12:30:54.816313Z",
     "iopub.status.busy": "2022-04-18T12:30:54.816086Z",
     "iopub.status.idle": "2022-04-18T12:30:54.833302Z",
     "shell.execute_reply": "2022-04-18T12:30:54.832549Z",
     "shell.execute_reply.started": "2022-04-18T12:30:54.816288Z"
    },
    "id": "xgAgwfb-fMbO",
    "outputId": "f8d4c665-0f16-4d0b-a600-008720cfeccd"
   },
   "outputs": [
    {
     "data": {
      "text/html": [
       "\n",
       "  <div id=\"df-723a72de-bd80-4150-95b6-a9cafa1d8740\">\n",
       "    <div class=\"colab-df-container\">\n",
       "      <div>\n",
       "<style scoped>\n",
       "    .dataframe tbody tr th:only-of-type {\n",
       "        vertical-align: middle;\n",
       "    }\n",
       "\n",
       "    .dataframe tbody tr th {\n",
       "        vertical-align: top;\n",
       "    }\n",
       "\n",
       "    .dataframe thead th {\n",
       "        text-align: right;\n",
       "    }\n",
       "</style>\n",
       "<table border=\"1\" class=\"dataframe\">\n",
       "  <thead>\n",
       "    <tr style=\"text-align: right;\">\n",
       "      <th></th>\n",
       "      <th>Date</th>\n",
       "      <th>Tweets</th>\n",
       "      <th>Prices</th>\n",
       "      <th>Comp</th>\n",
       "      <th>Negative</th>\n",
       "      <th>Neutral</th>\n",
       "      <th>Positive</th>\n",
       "    </tr>\n",
       "  </thead>\n",
       "  <tbody>\n",
       "    <tr>\n",
       "      <th>0</th>\n",
       "      <td>2022-05-09</td>\n",
       "      <td>RT ETRetail Ecommerce sales gallop despite big...</td>\n",
       "      <td>2116</td>\n",
       "      <td></td>\n",
       "      <td></td>\n",
       "      <td></td>\n",
       "      <td></td>\n",
       "    </tr>\n",
       "    <tr>\n",
       "      <th>1</th>\n",
       "      <td>2022-05-08</td>\n",
       "      <td>RT ETRetail HUL expects more sequential infla...</td>\n",
       "      <td>2172</td>\n",
       "      <td></td>\n",
       "      <td></td>\n",
       "      <td></td>\n",
       "      <td></td>\n",
       "    </tr>\n",
       "    <tr>\n",
       "      <th>2</th>\n",
       "      <td>2022-05-07</td>\n",
       "      <td>Consumers are no longer interested in buying ...</td>\n",
       "      <td>2172</td>\n",
       "      <td></td>\n",
       "      <td></td>\n",
       "      <td></td>\n",
       "      <td></td>\n",
       "    </tr>\n",
       "    <tr>\n",
       "      <th>3</th>\n",
       "      <td>2022-05-04</td>\n",
       "      <td>RT ArvindChaturved HindustanUnilevers  HULchi...</td>\n",
       "      <td>2171</td>\n",
       "      <td></td>\n",
       "      <td></td>\n",
       "      <td></td>\n",
       "      <td></td>\n",
       "    </tr>\n",
       "    <tr>\n",
       "      <th>4</th>\n",
       "      <td>2022-05-03</td>\n",
       "      <td>Adani Wilmar Ltd a packaged goods company tod...</td>\n",
       "      <td>2172</td>\n",
       "      <td></td>\n",
       "      <td></td>\n",
       "      <td></td>\n",
       "      <td></td>\n",
       "    </tr>\n",
       "    <tr>\n",
       "      <th>5</th>\n",
       "      <td>2022-05-02</td>\n",
       "      <td>RT businesstoday Packaged foods major AdaniWi...</td>\n",
       "      <td>2230</td>\n",
       "      <td></td>\n",
       "      <td></td>\n",
       "      <td></td>\n",
       "      <td></td>\n",
       "    </tr>\n",
       "    <tr>\n",
       "      <th>6</th>\n",
       "      <td>2022-05-01</td>\n",
       "      <td></td>\n",
       "      <td>2172</td>\n",
       "      <td></td>\n",
       "      <td></td>\n",
       "      <td></td>\n",
       "      <td></td>\n",
       "    </tr>\n",
       "    <tr>\n",
       "      <th>7</th>\n",
       "      <td>2022-04-30</td>\n",
       "      <td>Palm oil Distributors resort to panic buying ...</td>\n",
       "      <td>2172</td>\n",
       "      <td></td>\n",
       "      <td></td>\n",
       "      <td></td>\n",
       "      <td></td>\n",
       "    </tr>\n",
       "  </tbody>\n",
       "</table>\n",
       "</div>\n",
       "      <button class=\"colab-df-convert\" onclick=\"convertToInteractive('df-723a72de-bd80-4150-95b6-a9cafa1d8740')\"\n",
       "              title=\"Convert this dataframe to an interactive table.\"\n",
       "              style=\"display:none;\">\n",
       "        \n",
       "  <svg xmlns=\"http://www.w3.org/2000/svg\" height=\"24px\"viewBox=\"0 0 24 24\"\n",
       "       width=\"24px\">\n",
       "    <path d=\"M0 0h24v24H0V0z\" fill=\"none\"/>\n",
       "    <path d=\"M18.56 5.44l.94 2.06.94-2.06 2.06-.94-2.06-.94-.94-2.06-.94 2.06-2.06.94zm-11 1L8.5 8.5l.94-2.06 2.06-.94-2.06-.94L8.5 2.5l-.94 2.06-2.06.94zm10 10l.94 2.06.94-2.06 2.06-.94-2.06-.94-.94-2.06-.94 2.06-2.06.94z\"/><path d=\"M17.41 7.96l-1.37-1.37c-.4-.4-.92-.59-1.43-.59-.52 0-1.04.2-1.43.59L10.3 9.45l-7.72 7.72c-.78.78-.78 2.05 0 2.83L4 21.41c.39.39.9.59 1.41.59.51 0 1.02-.2 1.41-.59l7.78-7.78 2.81-2.81c.8-.78.8-2.07 0-2.86zM5.41 20L4 18.59l7.72-7.72 1.47 1.35L5.41 20z\"/>\n",
       "  </svg>\n",
       "      </button>\n",
       "      \n",
       "  <style>\n",
       "    .colab-df-container {\n",
       "      display:flex;\n",
       "      flex-wrap:wrap;\n",
       "      gap: 12px;\n",
       "    }\n",
       "\n",
       "    .colab-df-convert {\n",
       "      background-color: #E8F0FE;\n",
       "      border: none;\n",
       "      border-radius: 50%;\n",
       "      cursor: pointer;\n",
       "      display: none;\n",
       "      fill: #1967D2;\n",
       "      height: 32px;\n",
       "      padding: 0 0 0 0;\n",
       "      width: 32px;\n",
       "    }\n",
       "\n",
       "    .colab-df-convert:hover {\n",
       "      background-color: #E2EBFA;\n",
       "      box-shadow: 0px 1px 2px rgba(60, 64, 67, 0.3), 0px 1px 3px 1px rgba(60, 64, 67, 0.15);\n",
       "      fill: #174EA6;\n",
       "    }\n",
       "\n",
       "    [theme=dark] .colab-df-convert {\n",
       "      background-color: #3B4455;\n",
       "      fill: #D2E3FC;\n",
       "    }\n",
       "\n",
       "    [theme=dark] .colab-df-convert:hover {\n",
       "      background-color: #434B5C;\n",
       "      box-shadow: 0px 1px 3px 1px rgba(0, 0, 0, 0.15);\n",
       "      filter: drop-shadow(0px 1px 2px rgba(0, 0, 0, 0.3));\n",
       "      fill: #FFFFFF;\n",
       "    }\n",
       "  </style>\n",
       "\n",
       "      <script>\n",
       "        const buttonEl =\n",
       "          document.querySelector('#df-723a72de-bd80-4150-95b6-a9cafa1d8740 button.colab-df-convert');\n",
       "        buttonEl.style.display =\n",
       "          google.colab.kernel.accessAllowed ? 'block' : 'none';\n",
       "\n",
       "        async function convertToInteractive(key) {\n",
       "          const element = document.querySelector('#df-723a72de-bd80-4150-95b6-a9cafa1d8740');\n",
       "          const dataTable =\n",
       "            await google.colab.kernel.invokeFunction('convertToInteractive',\n",
       "                                                     [key], {});\n",
       "          if (!dataTable) return;\n",
       "\n",
       "          const docLinkHtml = 'Like what you see? Visit the ' +\n",
       "            '<a target=\"_blank\" href=https://colab.research.google.com/notebooks/data_table.ipynb>data table notebook</a>'\n",
       "            + ' to learn more about interactive tables.';\n",
       "          element.innerHTML = '';\n",
       "          dataTable['output_type'] = 'display_data';\n",
       "          await google.colab.output.renderOutput(dataTable, element);\n",
       "          const docLink = document.createElement('div');\n",
       "          docLink.innerHTML = docLinkHtml;\n",
       "          element.appendChild(docLink);\n",
       "        }\n",
       "      </script>\n",
       "    </div>\n",
       "  </div>\n",
       "  "
      ],
      "text/plain": [
       "         Date                                             Tweets  Prices Comp  \\\n",
       "0  2022-05-09  RT ETRetail Ecommerce sales gallop despite big...    2116        \n",
       "1  2022-05-08   RT ETRetail HUL expects more sequential infla...    2172        \n",
       "2  2022-05-07   Consumers are no longer interested in buying ...    2172        \n",
       "3  2022-05-04   RT ArvindChaturved HindustanUnilevers  HULchi...    2171        \n",
       "4  2022-05-03   Adani Wilmar Ltd a packaged goods company tod...    2172        \n",
       "5  2022-05-02   RT businesstoday Packaged foods major AdaniWi...    2230        \n",
       "6  2022-05-01                                                       2172        \n",
       "7  2022-04-30   Palm oil Distributors resort to panic buying ...    2172        \n",
       "\n",
       "  Negative Neutral Positive  \n",
       "0                            \n",
       "1                            \n",
       "2                            \n",
       "3                            \n",
       "4                            \n",
       "5                            \n",
       "6                            \n",
       "7                            "
      ]
     },
     "execution_count": 120,
     "metadata": {},
     "output_type": "execute_result"
    }
   ],
   "source": [
    "ccdata[\"Comp\"] = ''\n",
    "ccdata[\"Negative\"] = ''\n",
    "ccdata[\"Neutral\"] = ''\n",
    "ccdata[\"Positive\"] = ''\n",
    "ccdata"
   ]
  },
  {
   "cell_type": "markdown",
   "metadata": {
    "id": "Mm-SI3t0fMbP"
   },
   "source": [
    "#### Downloading this package was essential to perform sentiment analysis."
   ]
  },
  {
   "cell_type": "code",
   "execution_count": null,
   "metadata": {
    "ExecuteTime": {
     "end_time": "2021-09-22T09:39:45.645882Z",
     "start_time": "2021-09-22T09:39:44.853380Z"
    },
    "colab": {
     "base_uri": "https://localhost:8080/"
    },
    "execution": {
     "iopub.execute_input": "2022-04-18T12:30:55.167976Z",
     "iopub.status.busy": "2022-04-18T12:30:55.167490Z",
     "iopub.status.idle": "2022-04-18T12:30:55.174700Z",
     "shell.execute_reply": "2022-04-18T12:30:55.173940Z",
     "shell.execute_reply.started": "2022-04-18T12:30:55.167943Z"
    },
    "id": "t4qiiJcLfMbP",
    "outputId": "7a016650-36a8-4a6f-8684-5aac552ccc2e"
   },
   "outputs": [
    {
     "name": "stdout",
     "output_type": "stream",
     "text": [
      "[nltk_data] Downloading package vader_lexicon to /root/nltk_data...\n",
      "[nltk_data]   Package vader_lexicon is already up-to-date!\n"
     ]
    },
    {
     "data": {
      "text/plain": [
       "True"
      ]
     },
     "execution_count": 121,
     "metadata": {},
     "output_type": "execute_result"
    }
   ],
   "source": [
    "import nltk\n",
    "nltk.download('vader_lexicon')"
   ]
  },
  {
   "cell_type": "markdown",
   "metadata": {
    "id": "DHEm8TS0fMbQ"
   },
   "source": [
    "#### This part of the code is responsible for assigning the polarity for each statement. That is how much positive, negative, neutral you statement is. And also assign the compound value that is overall sentiment of the statement."
   ]
  },
  {
   "cell_type": "code",
   "execution_count": null,
   "metadata": {
    "ExecuteTime": {
     "end_time": "2021-09-22T09:41:51.701865Z",
     "start_time": "2021-09-22T09:41:51.584148Z"
    },
    "colab": {
     "base_uri": "https://localhost:8080/"
    },
    "execution": {
     "iopub.execute_input": "2022-04-18T12:30:55.491746Z",
     "iopub.status.busy": "2022-04-18T12:30:55.491210Z",
     "iopub.status.idle": "2022-04-18T12:30:55.595648Z",
     "shell.execute_reply": "2022-04-18T12:30:55.594943Z",
     "shell.execute_reply.started": "2022-04-18T12:30:55.491704Z"
    },
    "id": "Cs4QZWEyfMbQ",
    "outputId": "73eda38c-a970-450b-c376-75b83a3d61dd"
   },
   "outputs": [
    {
     "name": "stderr",
     "output_type": "stream",
     "text": [
      "/usr/local/lib/python3.7/dist-packages/pandas/core/indexing.py:1732: SettingWithCopyWarning: \n",
      "A value is trying to be set on a copy of a slice from a DataFrame\n",
      "\n",
      "See the caveats in the documentation: https://pandas.pydata.org/pandas-docs/stable/user_guide/indexing.html#returning-a-view-versus-a-copy\n",
      "  self._setitem_single_block(indexer, value, name)\n"
     ]
    }
   ],
   "source": [
    "from nltk.sentiment.vader import SentimentIntensityAnalyzer\n",
    "from nltk.sentiment.vader import SentimentIntensityAnalyzer\n",
    "import unicodedata\n",
    "sentiment_i_a = SentimentIntensityAnalyzer()\n",
    "for indexx, row in ccdata.T.iteritems():\n",
    "    try:\n",
    "        sentence_i = unicodedata.normalize('NFKD', ccdata.loc[indexx, 'Tweets'])\n",
    "        sentence_sentiment = sentiment_i_a.polarity_scores(sentence_i)\n",
    "        ccdata['Comp'].iloc[indexx] = sentence_sentiment['compound']\n",
    "        ccdata['Negative'].iloc[indexx] = sentence_sentiment['neg']\n",
    "        ccdata['Neutral'].iloc[indexx] = sentence_sentiment['neu']\n",
    "        ccdata['Positive'].iloc[indexx] = sentence_sentiment['compound']\n",
    "        # ccdata.set_value(indexx, 'Comp', sentence_sentiment['pos'])\n",
    "        # ccdata.set_value(indexx, 'Negative', sentence_sentiment['neg'])\n",
    "        # ccdata.set_value(indexx, 'Neutral', sentence_sentiment['neu'])\n",
    "        # ccdata.set_value(indexx, 'Positive', sentence_sentiment['pos'])\n",
    "    except TypeError:\n",
    "        print (stocks_dataf.loc[indexx, 'Tweets'])\n",
    "        print (indexx)"
   ]
  },
  {
   "cell_type": "code",
   "execution_count": null,
   "metadata": {
    "ExecuteTime": {
     "end_time": "2021-09-22T09:41:52.464197Z",
     "start_time": "2021-09-22T09:41:52.452260Z"
    },
    "colab": {
     "base_uri": "https://localhost:8080/",
     "height": 206
    },
    "execution": {
     "iopub.execute_input": "2022-04-18T12:30:55.830855Z",
     "iopub.status.busy": "2022-04-18T12:30:55.830228Z",
     "iopub.status.idle": "2022-04-18T12:30:55.842564Z",
     "shell.execute_reply": "2022-04-18T12:30:55.841610Z",
     "shell.execute_reply.started": "2022-04-18T12:30:55.830819Z"
    },
    "id": "l_5jG6nwfMbR",
    "outputId": "f5be0c70-e3cd-4660-fbb5-84845085c86c"
   },
   "outputs": [
    {
     "data": {
      "text/html": [
       "\n",
       "  <div id=\"df-37d58cc5-d80a-4d94-bf2e-ba8ea9f972e3\">\n",
       "    <div class=\"colab-df-container\">\n",
       "      <div>\n",
       "<style scoped>\n",
       "    .dataframe tbody tr th:only-of-type {\n",
       "        vertical-align: middle;\n",
       "    }\n",
       "\n",
       "    .dataframe tbody tr th {\n",
       "        vertical-align: top;\n",
       "    }\n",
       "\n",
       "    .dataframe thead th {\n",
       "        text-align: right;\n",
       "    }\n",
       "</style>\n",
       "<table border=\"1\" class=\"dataframe\">\n",
       "  <thead>\n",
       "    <tr style=\"text-align: right;\">\n",
       "      <th></th>\n",
       "      <th>Date</th>\n",
       "      <th>Tweets</th>\n",
       "      <th>Prices</th>\n",
       "      <th>Comp</th>\n",
       "      <th>Negative</th>\n",
       "      <th>Neutral</th>\n",
       "      <th>Positive</th>\n",
       "    </tr>\n",
       "  </thead>\n",
       "  <tbody>\n",
       "    <tr>\n",
       "      <th>0</th>\n",
       "      <td>2022-05-09</td>\n",
       "      <td>RT ETRetail Ecommerce sales gallop despite big...</td>\n",
       "      <td>2116</td>\n",
       "      <td>0.5083</td>\n",
       "      <td>0.077</td>\n",
       "      <td>0.827</td>\n",
       "      <td>0.5083</td>\n",
       "    </tr>\n",
       "    <tr>\n",
       "      <th>1</th>\n",
       "      <td>2022-05-08</td>\n",
       "      <td>RT ETRetail HUL expects more sequential infla...</td>\n",
       "      <td>2172</td>\n",
       "      <td>0.2177</td>\n",
       "      <td>0.0</td>\n",
       "      <td>0.896</td>\n",
       "      <td>0.2177</td>\n",
       "    </tr>\n",
       "    <tr>\n",
       "      <th>2</th>\n",
       "      <td>2022-05-07</td>\n",
       "      <td>Consumers are no longer interested in buying ...</td>\n",
       "      <td>2172</td>\n",
       "      <td>-0.25</td>\n",
       "      <td>0.101</td>\n",
       "      <td>0.804</td>\n",
       "      <td>-0.25</td>\n",
       "    </tr>\n",
       "    <tr>\n",
       "      <th>3</th>\n",
       "      <td>2022-05-04</td>\n",
       "      <td>RT ArvindChaturved HindustanUnilevers  HULchi...</td>\n",
       "      <td>2171</td>\n",
       "      <td>0.0516</td>\n",
       "      <td>0.022</td>\n",
       "      <td>0.959</td>\n",
       "      <td>0.0516</td>\n",
       "    </tr>\n",
       "    <tr>\n",
       "      <th>4</th>\n",
       "      <td>2022-05-03</td>\n",
       "      <td>Adani Wilmar Ltd a packaged goods company tod...</td>\n",
       "      <td>2172</td>\n",
       "      <td>-0.2441</td>\n",
       "      <td>0.053</td>\n",
       "      <td>0.909</td>\n",
       "      <td>-0.2441</td>\n",
       "    </tr>\n",
       "  </tbody>\n",
       "</table>\n",
       "</div>\n",
       "      <button class=\"colab-df-convert\" onclick=\"convertToInteractive('df-37d58cc5-d80a-4d94-bf2e-ba8ea9f972e3')\"\n",
       "              title=\"Convert this dataframe to an interactive table.\"\n",
       "              style=\"display:none;\">\n",
       "        \n",
       "  <svg xmlns=\"http://www.w3.org/2000/svg\" height=\"24px\"viewBox=\"0 0 24 24\"\n",
       "       width=\"24px\">\n",
       "    <path d=\"M0 0h24v24H0V0z\" fill=\"none\"/>\n",
       "    <path d=\"M18.56 5.44l.94 2.06.94-2.06 2.06-.94-2.06-.94-.94-2.06-.94 2.06-2.06.94zm-11 1L8.5 8.5l.94-2.06 2.06-.94-2.06-.94L8.5 2.5l-.94 2.06-2.06.94zm10 10l.94 2.06.94-2.06 2.06-.94-2.06-.94-.94-2.06-.94 2.06-2.06.94z\"/><path d=\"M17.41 7.96l-1.37-1.37c-.4-.4-.92-.59-1.43-.59-.52 0-1.04.2-1.43.59L10.3 9.45l-7.72 7.72c-.78.78-.78 2.05 0 2.83L4 21.41c.39.39.9.59 1.41.59.51 0 1.02-.2 1.41-.59l7.78-7.78 2.81-2.81c.8-.78.8-2.07 0-2.86zM5.41 20L4 18.59l7.72-7.72 1.47 1.35L5.41 20z\"/>\n",
       "  </svg>\n",
       "      </button>\n",
       "      \n",
       "  <style>\n",
       "    .colab-df-container {\n",
       "      display:flex;\n",
       "      flex-wrap:wrap;\n",
       "      gap: 12px;\n",
       "    }\n",
       "\n",
       "    .colab-df-convert {\n",
       "      background-color: #E8F0FE;\n",
       "      border: none;\n",
       "      border-radius: 50%;\n",
       "      cursor: pointer;\n",
       "      display: none;\n",
       "      fill: #1967D2;\n",
       "      height: 32px;\n",
       "      padding: 0 0 0 0;\n",
       "      width: 32px;\n",
       "    }\n",
       "\n",
       "    .colab-df-convert:hover {\n",
       "      background-color: #E2EBFA;\n",
       "      box-shadow: 0px 1px 2px rgba(60, 64, 67, 0.3), 0px 1px 3px 1px rgba(60, 64, 67, 0.15);\n",
       "      fill: #174EA6;\n",
       "    }\n",
       "\n",
       "    [theme=dark] .colab-df-convert {\n",
       "      background-color: #3B4455;\n",
       "      fill: #D2E3FC;\n",
       "    }\n",
       "\n",
       "    [theme=dark] .colab-df-convert:hover {\n",
       "      background-color: #434B5C;\n",
       "      box-shadow: 0px 1px 3px 1px rgba(0, 0, 0, 0.15);\n",
       "      filter: drop-shadow(0px 1px 2px rgba(0, 0, 0, 0.3));\n",
       "      fill: #FFFFFF;\n",
       "    }\n",
       "  </style>\n",
       "\n",
       "      <script>\n",
       "        const buttonEl =\n",
       "          document.querySelector('#df-37d58cc5-d80a-4d94-bf2e-ba8ea9f972e3 button.colab-df-convert');\n",
       "        buttonEl.style.display =\n",
       "          google.colab.kernel.accessAllowed ? 'block' : 'none';\n",
       "\n",
       "        async function convertToInteractive(key) {\n",
       "          const element = document.querySelector('#df-37d58cc5-d80a-4d94-bf2e-ba8ea9f972e3');\n",
       "          const dataTable =\n",
       "            await google.colab.kernel.invokeFunction('convertToInteractive',\n",
       "                                                     [key], {});\n",
       "          if (!dataTable) return;\n",
       "\n",
       "          const docLinkHtml = 'Like what you see? Visit the ' +\n",
       "            '<a target=\"_blank\" href=https://colab.research.google.com/notebooks/data_table.ipynb>data table notebook</a>'\n",
       "            + ' to learn more about interactive tables.';\n",
       "          element.innerHTML = '';\n",
       "          dataTable['output_type'] = 'display_data';\n",
       "          await google.colab.output.renderOutput(dataTable, element);\n",
       "          const docLink = document.createElement('div');\n",
       "          docLink.innerHTML = docLinkHtml;\n",
       "          element.appendChild(docLink);\n",
       "        }\n",
       "      </script>\n",
       "    </div>\n",
       "  </div>\n",
       "  "
      ],
      "text/plain": [
       "         Date                                             Tweets  Prices  \\\n",
       "0  2022-05-09  RT ETRetail Ecommerce sales gallop despite big...    2116   \n",
       "1  2022-05-08   RT ETRetail HUL expects more sequential infla...    2172   \n",
       "2  2022-05-07   Consumers are no longer interested in buying ...    2172   \n",
       "3  2022-05-04   RT ArvindChaturved HindustanUnilevers  HULchi...    2171   \n",
       "4  2022-05-03   Adani Wilmar Ltd a packaged goods company tod...    2172   \n",
       "\n",
       "     Comp Negative Neutral Positive  \n",
       "0  0.5083    0.077   0.827   0.5083  \n",
       "1  0.2177      0.0   0.896   0.2177  \n",
       "2   -0.25    0.101   0.804    -0.25  \n",
       "3  0.0516    0.022   0.959   0.0516  \n",
       "4 -0.2441    0.053   0.909  -0.2441  "
      ]
     },
     "execution_count": 123,
     "metadata": {},
     "output_type": "execute_result"
    }
   ],
   "source": [
    "ccdata.head()"
   ]
  },
  {
   "cell_type": "code",
   "execution_count": null,
   "metadata": {
    "colab": {
     "base_uri": "https://localhost:8080/",
     "height": 206
    },
    "id": "tsvrVRvOfMbR",
    "outputId": "024187c1-0da0-48ee-a639-8e93e137a87b"
   },
   "outputs": [
    {
     "data": {
      "text/html": [
       "\n",
       "  <div id=\"df-4331c57c-22eb-4bfd-a86d-0fb5f6aea6f7\">\n",
       "    <div class=\"colab-df-container\">\n",
       "      <div>\n",
       "<style scoped>\n",
       "    .dataframe tbody tr th:only-of-type {\n",
       "        vertical-align: middle;\n",
       "    }\n",
       "\n",
       "    .dataframe tbody tr th {\n",
       "        vertical-align: top;\n",
       "    }\n",
       "\n",
       "    .dataframe thead th {\n",
       "        text-align: right;\n",
       "    }\n",
       "</style>\n",
       "<table border=\"1\" class=\"dataframe\">\n",
       "  <thead>\n",
       "    <tr style=\"text-align: right;\">\n",
       "      <th></th>\n",
       "      <th>Date</th>\n",
       "      <th>Tweets</th>\n",
       "      <th>Prices</th>\n",
       "      <th>Comp</th>\n",
       "      <th>Negative</th>\n",
       "      <th>Neutral</th>\n",
       "      <th>Positive</th>\n",
       "    </tr>\n",
       "  </thead>\n",
       "  <tbody>\n",
       "    <tr>\n",
       "      <th>3</th>\n",
       "      <td>2022-05-04</td>\n",
       "      <td>RT ArvindChaturved HindustanUnilevers  HULchi...</td>\n",
       "      <td>2171</td>\n",
       "      <td>0.0516</td>\n",
       "      <td>0.022</td>\n",
       "      <td>0.959</td>\n",
       "      <td>0.0516</td>\n",
       "    </tr>\n",
       "    <tr>\n",
       "      <th>4</th>\n",
       "      <td>2022-05-03</td>\n",
       "      <td>Adani Wilmar Ltd a packaged goods company tod...</td>\n",
       "      <td>2172</td>\n",
       "      <td>-0.2441</td>\n",
       "      <td>0.053</td>\n",
       "      <td>0.909</td>\n",
       "      <td>-0.2441</td>\n",
       "    </tr>\n",
       "    <tr>\n",
       "      <th>5</th>\n",
       "      <td>2022-05-02</td>\n",
       "      <td>RT businesstoday Packaged foods major AdaniWi...</td>\n",
       "      <td>2230</td>\n",
       "      <td>0.9413</td>\n",
       "      <td>0.034</td>\n",
       "      <td>0.899</td>\n",
       "      <td>0.9413</td>\n",
       "    </tr>\n",
       "    <tr>\n",
       "      <th>6</th>\n",
       "      <td>2022-05-01</td>\n",
       "      <td></td>\n",
       "      <td>2172</td>\n",
       "      <td>0.0</td>\n",
       "      <td>0.0</td>\n",
       "      <td>0.0</td>\n",
       "      <td>0.0</td>\n",
       "    </tr>\n",
       "    <tr>\n",
       "      <th>7</th>\n",
       "      <td>2022-04-30</td>\n",
       "      <td>Palm oil Distributors resort to panic buying ...</td>\n",
       "      <td>2172</td>\n",
       "      <td>-0.743</td>\n",
       "      <td>0.193</td>\n",
       "      <td>0.764</td>\n",
       "      <td>-0.743</td>\n",
       "    </tr>\n",
       "  </tbody>\n",
       "</table>\n",
       "</div>\n",
       "      <button class=\"colab-df-convert\" onclick=\"convertToInteractive('df-4331c57c-22eb-4bfd-a86d-0fb5f6aea6f7')\"\n",
       "              title=\"Convert this dataframe to an interactive table.\"\n",
       "              style=\"display:none;\">\n",
       "        \n",
       "  <svg xmlns=\"http://www.w3.org/2000/svg\" height=\"24px\"viewBox=\"0 0 24 24\"\n",
       "       width=\"24px\">\n",
       "    <path d=\"M0 0h24v24H0V0z\" fill=\"none\"/>\n",
       "    <path d=\"M18.56 5.44l.94 2.06.94-2.06 2.06-.94-2.06-.94-.94-2.06-.94 2.06-2.06.94zm-11 1L8.5 8.5l.94-2.06 2.06-.94-2.06-.94L8.5 2.5l-.94 2.06-2.06.94zm10 10l.94 2.06.94-2.06 2.06-.94-2.06-.94-.94-2.06-.94 2.06-2.06.94z\"/><path d=\"M17.41 7.96l-1.37-1.37c-.4-.4-.92-.59-1.43-.59-.52 0-1.04.2-1.43.59L10.3 9.45l-7.72 7.72c-.78.78-.78 2.05 0 2.83L4 21.41c.39.39.9.59 1.41.59.51 0 1.02-.2 1.41-.59l7.78-7.78 2.81-2.81c.8-.78.8-2.07 0-2.86zM5.41 20L4 18.59l7.72-7.72 1.47 1.35L5.41 20z\"/>\n",
       "  </svg>\n",
       "      </button>\n",
       "      \n",
       "  <style>\n",
       "    .colab-df-container {\n",
       "      display:flex;\n",
       "      flex-wrap:wrap;\n",
       "      gap: 12px;\n",
       "    }\n",
       "\n",
       "    .colab-df-convert {\n",
       "      background-color: #E8F0FE;\n",
       "      border: none;\n",
       "      border-radius: 50%;\n",
       "      cursor: pointer;\n",
       "      display: none;\n",
       "      fill: #1967D2;\n",
       "      height: 32px;\n",
       "      padding: 0 0 0 0;\n",
       "      width: 32px;\n",
       "    }\n",
       "\n",
       "    .colab-df-convert:hover {\n",
       "      background-color: #E2EBFA;\n",
       "      box-shadow: 0px 1px 2px rgba(60, 64, 67, 0.3), 0px 1px 3px 1px rgba(60, 64, 67, 0.15);\n",
       "      fill: #174EA6;\n",
       "    }\n",
       "\n",
       "    [theme=dark] .colab-df-convert {\n",
       "      background-color: #3B4455;\n",
       "      fill: #D2E3FC;\n",
       "    }\n",
       "\n",
       "    [theme=dark] .colab-df-convert:hover {\n",
       "      background-color: #434B5C;\n",
       "      box-shadow: 0px 1px 3px 1px rgba(0, 0, 0, 0.15);\n",
       "      filter: drop-shadow(0px 1px 2px rgba(0, 0, 0, 0.3));\n",
       "      fill: #FFFFFF;\n",
       "    }\n",
       "  </style>\n",
       "\n",
       "      <script>\n",
       "        const buttonEl =\n",
       "          document.querySelector('#df-4331c57c-22eb-4bfd-a86d-0fb5f6aea6f7 button.colab-df-convert');\n",
       "        buttonEl.style.display =\n",
       "          google.colab.kernel.accessAllowed ? 'block' : 'none';\n",
       "\n",
       "        async function convertToInteractive(key) {\n",
       "          const element = document.querySelector('#df-4331c57c-22eb-4bfd-a86d-0fb5f6aea6f7');\n",
       "          const dataTable =\n",
       "            await google.colab.kernel.invokeFunction('convertToInteractive',\n",
       "                                                     [key], {});\n",
       "          if (!dataTable) return;\n",
       "\n",
       "          const docLinkHtml = 'Like what you see? Visit the ' +\n",
       "            '<a target=\"_blank\" href=https://colab.research.google.com/notebooks/data_table.ipynb>data table notebook</a>'\n",
       "            + ' to learn more about interactive tables.';\n",
       "          element.innerHTML = '';\n",
       "          dataTable['output_type'] = 'display_data';\n",
       "          await google.colab.output.renderOutput(dataTable, element);\n",
       "          const docLink = document.createElement('div');\n",
       "          docLink.innerHTML = docLinkHtml;\n",
       "          element.appendChild(docLink);\n",
       "        }\n",
       "      </script>\n",
       "    </div>\n",
       "  </div>\n",
       "  "
      ],
      "text/plain": [
       "         Date                                             Tweets  Prices  \\\n",
       "3  2022-05-04   RT ArvindChaturved HindustanUnilevers  HULchi...    2171   \n",
       "4  2022-05-03   Adani Wilmar Ltd a packaged goods company tod...    2172   \n",
       "5  2022-05-02   RT businesstoday Packaged foods major AdaniWi...    2230   \n",
       "6  2022-05-01                                                       2172   \n",
       "7  2022-04-30   Palm oil Distributors resort to panic buying ...    2172   \n",
       "\n",
       "     Comp Negative Neutral Positive  \n",
       "3  0.0516    0.022   0.959   0.0516  \n",
       "4 -0.2441    0.053   0.909  -0.2441  \n",
       "5  0.9413    0.034   0.899   0.9413  \n",
       "6     0.0      0.0     0.0      0.0  \n",
       "7  -0.743    0.193   0.764   -0.743  "
      ]
     },
     "execution_count": 124,
     "metadata": {},
     "output_type": "execute_result"
    }
   ],
   "source": [
    "ccdata.tail()"
   ]
  },
  {
   "cell_type": "code",
   "execution_count": null,
   "metadata": {
    "colab": {
     "base_uri": "https://localhost:8080/"
    },
    "id": "QfJrh2BafMbS",
    "outputId": "8c36e87b-b619-4e9d-96eb-bcd53e3787e9"
   },
   "outputs": [
    {
     "data": {
      "text/plain": [
       "<bound method DataFrame.value_counts of          Date                                             Tweets  Prices  \\\n",
       "0  2022-05-09  RT ETRetail Ecommerce sales gallop despite big...    2116   \n",
       "1  2022-05-08   RT ETRetail HUL expects more sequential infla...    2172   \n",
       "2  2022-05-07   Consumers are no longer interested in buying ...    2172   \n",
       "3  2022-05-04   RT ArvindChaturved HindustanUnilevers  HULchi...    2171   \n",
       "4  2022-05-03   Adani Wilmar Ltd a packaged goods company tod...    2172   \n",
       "5  2022-05-02   RT businesstoday Packaged foods major AdaniWi...    2230   \n",
       "6  2022-05-01                                                       2172   \n",
       "7  2022-04-30   Palm oil Distributors resort to panic buying ...    2172   \n",
       "\n",
       "     Comp Negative Neutral Positive  \n",
       "0  0.5083    0.077   0.827   0.5083  \n",
       "1  0.2177      0.0   0.896   0.2177  \n",
       "2   -0.25    0.101   0.804    -0.25  \n",
       "3  0.0516    0.022   0.959   0.0516  \n",
       "4 -0.2441    0.053   0.909  -0.2441  \n",
       "5  0.9413    0.034   0.899   0.9413  \n",
       "6     0.0      0.0     0.0      0.0  \n",
       "7  -0.743    0.193   0.764   -0.743  >"
      ]
     },
     "execution_count": 125,
     "metadata": {},
     "output_type": "execute_result"
    }
   ],
   "source": [
    "ccdata.value_counts"
   ]
  },
  {
   "cell_type": "markdown",
   "metadata": {
    "id": "VAj7JpC0fMbS"
   },
   "source": [
    "#### Calculating the percentage of postive and negative tweets, and plotting the PIE chart for the same."
   ]
  },
  {
   "cell_type": "code",
   "execution_count": null,
   "metadata": {
    "ExecuteTime": {
     "end_time": "2021-09-22T09:43:58.673907Z",
     "start_time": "2021-09-22T09:43:58.601071Z"
    },
    "colab": {
     "base_uri": "https://localhost:8080/",
     "height": 300
    },
    "execution": {
     "iopub.execute_input": "2022-04-18T12:30:56.173600Z",
     "iopub.status.busy": "2022-04-18T12:30:56.172973Z",
     "iopub.status.idle": "2022-04-18T12:30:56.263431Z",
     "shell.execute_reply": "2022-04-18T12:30:56.262743Z",
     "shell.execute_reply.started": "2022-04-18T12:30:56.173554Z"
    },
    "id": "N-xTvBEGfMbT",
    "outputId": "ba5768ca-2249-4ebd-d8e2-6483243ac6ee",
    "scrolled": true
   },
   "outputs": [
    {
     "name": "stdout",
     "output_type": "stream",
     "text": [
      "% of positive tweets=  50.0\n",
      "% of negative tweets=  37.5\n"
     ]
    },
    {
     "data": {
      "text/plain": [
       "[]"
      ]
     },
     "execution_count": 126,
     "metadata": {},
     "output_type": "execute_result"
    },
    {
     "data": {
      "image/png": "[encoded data removed]",
      "text/plain": [
       "<Figure size 432x288 with 1 Axes>"
      ]
     },
     "metadata": {},
     "output_type": "display_data"
    }
   ],
   "source": [
    "posi=0\n",
    "nega=0\n",
    "for i in range (0,len(ccdata)):\n",
    "    get_val=ccdata.Comp[i]\n",
    "    if(float(get_val)<(0)):\n",
    "        nega=nega+1\n",
    "    if(float(get_val>(0))):\n",
    "        posi=posi+1\n",
    "posper=(posi/(len(ccdata)))*100\n",
    "negper=(nega/(len(ccdata)))*100\n",
    "print(\"% of positive tweets= \",posper)\n",
    "print(\"% of negative tweets= \",negper)\n",
    "arr=np.asarray([posper,negper], dtype=int)\n",
    "mlpt.pie(arr,labels=['positive','negative'])\n",
    "mlpt.plot()"
   ]
  },
  {
   "cell_type": "markdown",
   "metadata": {
    "id": "Dw3leiB6fMbT"
   },
   "source": [
    "#### Making a new dataframe with necessary columns for providing machine learning."
   ]
  },
  {
   "cell_type": "code",
   "execution_count": null,
   "metadata": {
    "ExecuteTime": {
     "end_time": "2021-09-22T09:44:01.310736Z",
     "start_time": "2021-09-22T09:44:01.301731Z"
    },
    "execution": {
     "iopub.execute_input": "2022-04-18T12:30:56.497982Z",
     "iopub.status.busy": "2022-04-18T12:30:56.497475Z",
     "iopub.status.idle": "2022-04-18T12:30:56.503047Z",
     "shell.execute_reply": "2022-04-18T12:30:56.502064Z",
     "shell.execute_reply.started": "2022-04-18T12:30:56.497947Z"
    },
    "id": "yjS5fkdsfMbU"
   },
   "outputs": [],
   "source": [
    "df_=ccdata[['Date','Prices','Comp','Negative','Neutral','Positive']].copy()"
   ]
  },
  {
   "cell_type": "code",
   "execution_count": null,
   "metadata": {
    "ExecuteTime": {
     "end_time": "2021-09-22T09:44:01.654699Z",
     "start_time": "2021-09-22T09:44:01.635721Z"
    },
    "colab": {
     "base_uri": "https://localhost:8080/",
     "height": 206
    },
    "execution": {
     "iopub.execute_input": "2022-04-18T12:38:05.543149Z",
     "iopub.status.busy": "2022-04-18T12:38:05.542480Z",
     "iopub.status.idle": "2022-04-18T12:38:05.649158Z",
     "shell.execute_reply": "2022-04-18T12:38:05.648007Z",
     "shell.execute_reply.started": "2022-04-18T12:38:05.542980Z"
    },
    "id": "Nx92ckmEfMbU",
    "outputId": "097b3ba9-2d7a-4ff2-e0db-8839a0bd7d75"
   },
   "outputs": [
    {
     "data": {
      "text/html": [
       "\n",
       "  <div id=\"df-3630f809-12e7-4457-9852-ff955da7aae6\">\n",
       "    <div class=\"colab-df-container\">\n",
       "      <div>\n",
       "<style scoped>\n",
       "    .dataframe tbody tr th:only-of-type {\n",
       "        vertical-align: middle;\n",
       "    }\n",
       "\n",
       "    .dataframe tbody tr th {\n",
       "        vertical-align: top;\n",
       "    }\n",
       "\n",
       "    .dataframe thead th {\n",
       "        text-align: right;\n",
       "    }\n",
       "</style>\n",
       "<table border=\"1\" class=\"dataframe\">\n",
       "  <thead>\n",
       "    <tr style=\"text-align: right;\">\n",
       "      <th></th>\n",
       "      <th>Date</th>\n",
       "      <th>Prices</th>\n",
       "      <th>Comp</th>\n",
       "      <th>Negative</th>\n",
       "      <th>Neutral</th>\n",
       "      <th>Positive</th>\n",
       "    </tr>\n",
       "  </thead>\n",
       "  <tbody>\n",
       "    <tr>\n",
       "      <th>0</th>\n",
       "      <td>2022-05-09</td>\n",
       "      <td>2116</td>\n",
       "      <td>0.5083</td>\n",
       "      <td>0.077</td>\n",
       "      <td>0.827</td>\n",
       "      <td>0.5083</td>\n",
       "    </tr>\n",
       "    <tr>\n",
       "      <th>1</th>\n",
       "      <td>2022-05-08</td>\n",
       "      <td>2172</td>\n",
       "      <td>0.2177</td>\n",
       "      <td>0.0</td>\n",
       "      <td>0.896</td>\n",
       "      <td>0.2177</td>\n",
       "    </tr>\n",
       "    <tr>\n",
       "      <th>2</th>\n",
       "      <td>2022-05-07</td>\n",
       "      <td>2172</td>\n",
       "      <td>-0.25</td>\n",
       "      <td>0.101</td>\n",
       "      <td>0.804</td>\n",
       "      <td>-0.25</td>\n",
       "    </tr>\n",
       "    <tr>\n",
       "      <th>3</th>\n",
       "      <td>2022-05-04</td>\n",
       "      <td>2171</td>\n",
       "      <td>0.0516</td>\n",
       "      <td>0.022</td>\n",
       "      <td>0.959</td>\n",
       "      <td>0.0516</td>\n",
       "    </tr>\n",
       "    <tr>\n",
       "      <th>4</th>\n",
       "      <td>2022-05-03</td>\n",
       "      <td>2172</td>\n",
       "      <td>-0.2441</td>\n",
       "      <td>0.053</td>\n",
       "      <td>0.909</td>\n",
       "      <td>-0.2441</td>\n",
       "    </tr>\n",
       "  </tbody>\n",
       "</table>\n",
       "</div>\n",
       "      <button class=\"colab-df-convert\" onclick=\"convertToInteractive('df-3630f809-12e7-4457-9852-ff955da7aae6')\"\n",
       "              title=\"Convert this dataframe to an interactive table.\"\n",
       "              style=\"display:none;\">\n",
       "        \n",
       "  <svg xmlns=\"http://www.w3.org/2000/svg\" height=\"24px\"viewBox=\"0 0 24 24\"\n",
       "       width=\"24px\">\n",
       "    <path d=\"M0 0h24v24H0V0z\" fill=\"none\"/>\n",
       "    <path d=\"M18.56 5.44l.94 2.06.94-2.06 2.06-.94-2.06-.94-.94-2.06-.94 2.06-2.06.94zm-11 1L8.5 8.5l.94-2.06 2.06-.94-2.06-.94L8.5 2.5l-.94 2.06-2.06.94zm10 10l.94 2.06.94-2.06 2.06-.94-2.06-.94-.94-2.06-.94 2.06-2.06.94z\"/><path d=\"M17.41 7.96l-1.37-1.37c-.4-.4-.92-.59-1.43-.59-.52 0-1.04.2-1.43.59L10.3 9.45l-7.72 7.72c-.78.78-.78 2.05 0 2.83L4 21.41c.39.39.9.59 1.41.59.51 0 1.02-.2 1.41-.59l7.78-7.78 2.81-2.81c.8-.78.8-2.07 0-2.86zM5.41 20L4 18.59l7.72-7.72 1.47 1.35L5.41 20z\"/>\n",
       "  </svg>\n",
       "      </button>\n",
       "      \n",
       "  <style>\n",
       "    .colab-df-container {\n",
       "      display:flex;\n",
       "      flex-wrap:wrap;\n",
       "      gap: 12px;\n",
       "    }\n",
       "\n",
       "    .colab-df-convert {\n",
       "      background-color: #E8F0FE;\n",
       "      border: none;\n",
       "      border-radius: 50%;\n",
       "      cursor: pointer;\n",
       "      display: none;\n",
       "      fill: #1967D2;\n",
       "      height: 32px;\n",
       "      padding: 0 0 0 0;\n",
       "      width: 32px;\n",
       "    }\n",
       "\n",
       "    .colab-df-convert:hover {\n",
       "      background-color: #E2EBFA;\n",
       "      box-shadow: 0px 1px 2px rgba(60, 64, 67, 0.3), 0px 1px 3px 1px rgba(60, 64, 67, 0.15);\n",
       "      fill: #174EA6;\n",
       "    }\n",
       "\n",
       "    [theme=dark] .colab-df-convert {\n",
       "      background-color: #3B4455;\n",
       "      fill: #D2E3FC;\n",
       "    }\n",
       "\n",
       "    [theme=dark] .colab-df-convert:hover {\n",
       "      background-color: #434B5C;\n",
       "      box-shadow: 0px 1px 3px 1px rgba(0, 0, 0, 0.15);\n",
       "      filter: drop-shadow(0px 1px 2px rgba(0, 0, 0, 0.3));\n",
       "      fill: #FFFFFF;\n",
       "    }\n",
       "  </style>\n",
       "\n",
       "      <script>\n",
       "        const buttonEl =\n",
       "          document.querySelector('#df-3630f809-12e7-4457-9852-ff955da7aae6 button.colab-df-convert');\n",
       "        buttonEl.style.display =\n",
       "          google.colab.kernel.accessAllowed ? 'block' : 'none';\n",
       "\n",
       "        async function convertToInteractive(key) {\n",
       "          const element = document.querySelector('#df-3630f809-12e7-4457-9852-ff955da7aae6');\n",
       "          const dataTable =\n",
       "            await google.colab.kernel.invokeFunction('convertToInteractive',\n",
       "                                                     [key], {});\n",
       "          if (!dataTable) return;\n",
       "\n",
       "          const docLinkHtml = 'Like what you see? Visit the ' +\n",
       "            '<a target=\"_blank\" href=https://colab.research.google.com/notebooks/data_table.ipynb>data table notebook</a>'\n",
       "            + ' to learn more about interactive tables.';\n",
       "          element.innerHTML = '';\n",
       "          dataTable['output_type'] = 'display_data';\n",
       "          await google.colab.output.renderOutput(dataTable, element);\n",
       "          const docLink = document.createElement('div');\n",
       "          docLink.innerHTML = docLinkHtml;\n",
       "          element.appendChild(docLink);\n",
       "        }\n",
       "      </script>\n",
       "    </div>\n",
       "  </div>\n",
       "  "
      ],
      "text/plain": [
       "         Date  Prices    Comp Negative Neutral Positive\n",
       "0  2022-05-09    2116  0.5083    0.077   0.827   0.5083\n",
       "1  2022-05-08    2172  0.2177      0.0   0.896   0.2177\n",
       "2  2022-05-07    2172   -0.25    0.101   0.804    -0.25\n",
       "3  2022-05-04    2171  0.0516    0.022   0.959   0.0516\n",
       "4  2022-05-03    2172 -0.2441    0.053   0.909  -0.2441"
      ]
     },
     "execution_count": 128,
     "metadata": {},
     "output_type": "execute_result"
    }
   ],
   "source": [
    "df_.head()"
   ]
  },
  {
   "cell_type": "markdown",
   "metadata": {
    "id": "kwfNxNJ0fMbV"
   },
   "source": [
    "#### Dividing the dataset into train and test."
   ]
  },
  {
   "cell_type": "code",
   "execution_count": null,
   "metadata": {
    "ExecuteTime": {
     "end_time": "2021-09-22T09:44:49.274215Z",
     "start_time": "2021-09-22T09:44:49.266237Z"
    },
    "execution": {
     "iopub.execute_input": "2022-04-18T12:30:57.207010Z",
     "iopub.status.busy": "2022-04-18T12:30:57.206272Z",
     "iopub.status.idle": "2022-04-18T12:30:57.215081Z",
     "shell.execute_reply": "2022-04-18T12:30:57.214181Z",
     "shell.execute_reply.started": "2022-04-18T12:30:57.206973Z"
    },
    "id": "UbOCi12cfMbV",
    "scrolled": true
   },
   "outputs": [],
   "source": [
    "train_start_index = '0'\n",
    "train_end_index = '4'\n",
    "test_start_index = '5'\n",
    "test_end_index = '7'\n",
    "train = df_.loc[train_start_index : train_end_index,:]\n",
    "test = df_.loc[test_start_index:test_end_index,:]"
   ]
  },
  {
   "cell_type": "markdown",
   "metadata": {
    "id": "0pWY5BaafMbV"
   },
   "source": [
    "#### Making a 2D array that will store the Negative and Positive sentiment for Training dataset."
   ]
  },
  {
   "cell_type": "code",
   "execution_count": null,
   "metadata": {
    "ExecuteTime": {
     "end_time": "2021-09-22T09:44:50.677601Z",
     "start_time": "2021-09-22T09:44:50.667601Z"
    },
    "execution": {
     "iopub.execute_input": "2022-04-18T12:30:57.524799Z",
     "iopub.status.busy": "2022-04-18T12:30:57.524202Z",
     "iopub.status.idle": "2022-04-18T12:30:57.533487Z",
     "shell.execute_reply": "2022-04-18T12:30:57.532663Z",
     "shell.execute_reply.started": "2022-04-18T12:30:57.524763Z"
    },
    "id": "bwKp8ENZfMbW"
   },
   "outputs": [],
   "source": [
    "sentiment_score_list = []\n",
    "for date, row in train.T.iteritems():\n",
    "    sentiment_score = np.asarray([df_.loc[date, 'Negative'],df_.loc[date, 'Positive']])\n",
    "    sentiment_score_list.append(sentiment_score)\n",
    "numpy_df_train = np.asarray(sentiment_score_list)"
   ]
  },
  {
   "cell_type": "code",
   "execution_count": null,
   "metadata": {
    "ExecuteTime": {
     "end_time": "2021-09-22T09:44:52.251819Z",
     "start_time": "2021-09-22T09:44:52.236853Z"
    },
    "colab": {
     "base_uri": "https://localhost:8080/"
    },
    "execution": {
     "iopub.execute_input": "2022-04-18T12:30:57.858905Z",
     "iopub.status.busy": "2022-04-18T12:30:57.858298Z",
     "iopub.status.idle": "2022-04-18T12:30:57.863570Z",
     "shell.execute_reply": "2022-04-18T12:30:57.862811Z",
     "shell.execute_reply.started": "2022-04-18T12:30:57.858874Z"
    },
    "id": "X8KbP_i1fMbW",
    "outputId": "3c8eacfb-7da0-4005-a148-33677cb578e9"
   },
   "outputs": [
    {
     "name": "stdout",
     "output_type": "stream",
     "text": [
      "[[ 0.077   0.5083]\n",
      " [ 0.      0.2177]\n",
      " [ 0.101  -0.25  ]\n",
      " [ 0.022   0.0516]\n",
      " [ 0.053  -0.2441]]\n"
     ]
    }
   ],
   "source": [
    "print(numpy_df_train)"
   ]
  },
  {
   "cell_type": "markdown",
   "metadata": {
    "id": "ljbK-RnafMbX"
   },
   "source": [
    "#### Making a 2D array that will store the Negative and Positive sentiment for Testing dataset."
   ]
  },
  {
   "cell_type": "code",
   "execution_count": null,
   "metadata": {
    "ExecuteTime": {
     "end_time": "2021-09-22T09:44:53.722231Z",
     "start_time": "2021-09-22T09:44:53.711261Z"
    },
    "execution": {
     "iopub.execute_input": "2022-04-18T12:30:58.232057Z",
     "iopub.status.busy": "2022-04-18T12:30:58.231144Z",
     "iopub.status.idle": "2022-04-18T12:30:58.239199Z",
     "shell.execute_reply": "2022-04-18T12:30:58.238389Z",
     "shell.execute_reply.started": "2022-04-18T12:30:58.232006Z"
    },
    "id": "YvdOBphXfMbX"
   },
   "outputs": [],
   "source": [
    "sentiment_score_list = []\n",
    "for date, row in test.T.iteritems():\n",
    "    sentiment_score = np.asarray([df_.loc[date, 'Negative'],df_.loc[date, 'Positive']])\n",
    "    sentiment_score_list.append(sentiment_score)\n",
    "numpy_df_test = np.asarray(sentiment_score_list)"
   ]
  },
  {
   "cell_type": "code",
   "execution_count": null,
   "metadata": {
    "ExecuteTime": {
     "end_time": "2021-09-22T09:44:54.096791Z",
     "start_time": "2021-09-22T09:44:54.083825Z"
    },
    "colab": {
     "base_uri": "https://localhost:8080/"
    },
    "execution": {
     "iopub.execute_input": "2022-04-18T12:30:58.588493Z",
     "iopub.status.busy": "2022-04-18T12:30:58.586321Z",
     "iopub.status.idle": "2022-04-18T12:30:58.593012Z",
     "shell.execute_reply": "2022-04-18T12:30:58.592201Z",
     "shell.execute_reply.started": "2022-04-18T12:30:58.588455Z"
    },
    "id": "uyYG2BV9fMbX",
    "outputId": "062bfbe6-7dd4-46fb-ecc5-92a339f98944"
   },
   "outputs": [
    {
     "name": "stdout",
     "output_type": "stream",
     "text": [
      "[[ 0.034   0.9413]\n",
      " [ 0.      0.    ]\n",
      " [ 0.193  -0.743 ]]\n"
     ]
    }
   ],
   "source": [
    "print(numpy_df_test)"
   ]
  },
  {
   "cell_type": "markdown",
   "metadata": {
    "id": "MbaBzgbbfMbY"
   },
   "source": [
    "#### Making 2 dataframe for Training and Testing \"Prices\". You can also make 1-D array for the same."
   ]
  },
  {
   "cell_type": "code",
   "execution_count": null,
   "metadata": {
    "ExecuteTime": {
     "end_time": "2021-09-22T09:44:55.720364Z",
     "start_time": "2021-09-22T09:44:55.700416Z"
    },
    "colab": {
     "base_uri": "https://localhost:8080/"
    },
    "execution": {
     "iopub.execute_input": "2022-04-18T12:30:59.167991Z",
     "iopub.status.busy": "2022-04-18T12:30:59.167291Z",
     "iopub.status.idle": "2022-04-18T12:30:59.175375Z",
     "shell.execute_reply": "2022-04-18T12:30:59.173819Z",
     "shell.execute_reply.started": "2022-04-18T12:30:59.167954Z"
    },
    "id": "jrmZGee-fMbY",
    "outputId": "0861720b-7cc7-4786-88b6-9983b7bd9da9"
   },
   "outputs": [
    {
     "name": "stdout",
     "output_type": "stream",
     "text": [
      "   Prices\n",
      "0    2116\n",
      "1    2172\n",
      "2    2172\n",
      "3    2171\n",
      "4    2172\n"
     ]
    }
   ],
   "source": [
    "y_train = pd.DataFrame(train['Prices'])\n",
    "#y_train=[91,91,91,92,91,92,91]\n",
    "y_test = pd.DataFrame(test['Prices'])\n",
    "print(y_train)"
   ]
  },
  {
   "cell_type": "markdown",
   "metadata": {
    "id": "KA9IXI1MfMbZ"
   },
   "source": [
    "#### Fitting the sentiments(this acts as in independent value) and prices(this acts as a dependent value (like class-lables in iris dataset))"
   ]
  },
  {
   "cell_type": "code",
   "execution_count": null,
   "metadata": {
    "ExecuteTime": {
     "end_time": "2021-09-22T09:45:41.425399Z",
     "start_time": "2021-09-22T09:45:41.317688Z"
    },
    "colab": {
     "base_uri": "https://localhost:8080/"
    },
    "execution": {
     "iopub.execute_input": "2022-04-18T12:30:59.751986Z",
     "iopub.status.busy": "2022-04-18T12:30:59.751218Z",
     "iopub.status.idle": "2022-04-18T12:30:59.885237Z",
     "shell.execute_reply": "2022-04-18T12:30:59.884427Z",
     "shell.execute_reply.started": "2022-04-18T12:30:59.751932Z"
    },
    "id": "BxR1-TmofMbZ",
    "outputId": "b9d21755-247b-4249-edf0-2bc75ed50c71",
    "scrolled": true
   },
   "outputs": [
    {
     "name": "stderr",
     "output_type": "stream",
     "text": [
      "/usr/local/lib/python3.7/dist-packages/ipykernel_launcher.py:7: DataConversionWarning: A column-vector y was passed when a 1d array was expected. Please change the shape of y to (n_samples,), for example using ravel().\n",
      "  import sys\n"
     ]
    },
    {
     "data": {
      "text/plain": [
       "RandomForestRegressor()"
      ]
     },
     "execution_count": 135,
     "metadata": {},
     "output_type": "execute_result"
    }
   ],
   "source": [
    "# from treeinterpreter import treeinterpreter as ti\n",
    "from sklearn.tree import DecisionTreeRegressor\n",
    "from sklearn.ensemble import RandomForestRegressor\n",
    "from sklearn.metrics import classification_report,confusion_matrix\n",
    "\n",
    "rf = RandomForestRegressor()\n",
    "rf.fit(numpy_df_train, y_train)"
   ]
  },
  {
   "cell_type": "markdown",
   "metadata": {
    "id": "ihzss35EfMba"
   },
   "source": [
    "#### Making Predictions"
   ]
  },
  {
   "cell_type": "code",
   "execution_count": null,
   "metadata": {
    "ExecuteTime": {
     "end_time": "2021-09-22T09:46:05.824853Z",
     "start_time": "2021-09-22T09:46:05.802877Z"
    },
    "execution": {
     "iopub.execute_input": "2022-04-18T12:31:00.078623Z",
     "iopub.status.busy": "2022-04-18T12:31:00.078046Z",
     "iopub.status.idle": "2022-04-18T12:31:00.093186Z",
     "shell.execute_reply": "2022-04-18T12:31:00.092512Z",
     "shell.execute_reply.started": "2022-04-18T12:31:00.078590Z"
    },
    "id": "tOJrA0wQfMba"
   },
   "outputs": [],
   "source": [
    "prediction = rf.predict(numpy_df_test)"
   ]
  },
  {
   "cell_type": "code",
   "execution_count": null,
   "metadata": {
    "ExecuteTime": {
     "end_time": "2021-09-22T09:46:06.416726Z",
     "start_time": "2021-09-22T09:46:06.411739Z"
    },
    "colab": {
     "base_uri": "https://localhost:8080/"
    },
    "execution": {
     "iopub.execute_input": "2022-04-18T12:31:00.658873Z",
     "iopub.status.busy": "2022-04-18T12:31:00.658208Z",
     "iopub.status.idle": "2022-04-18T12:31:00.663575Z",
     "shell.execute_reply": "2022-04-18T12:31:00.662814Z",
     "shell.execute_reply.started": "2022-04-18T12:31:00.658837Z"
    },
    "id": "junb6HtzfMbb",
    "outputId": "e345dbc0-833b-42b6-ba26-e17c68470cd2"
   },
   "outputs": [
    {
     "name": "stdout",
     "output_type": "stream",
     "text": [
      "[2138.2  2171.58 2165.24]\n"
     ]
    }
   ],
   "source": [
    "print(prediction)"
   ]
  },
  {
   "cell_type": "markdown",
   "metadata": {
    "id": "yrDmrzo4fMbb"
   },
   "source": [
    "#### Importing matplotlib library for plotting graph"
   ]
  },
  {
   "cell_type": "code",
   "execution_count": null,
   "metadata": {
    "ExecuteTime": {
     "end_time": "2021-09-22T09:46:09.288378Z",
     "start_time": "2021-09-22T09:46:09.271441Z"
    },
    "execution": {
     "iopub.execute_input": "2022-04-18T12:31:01.247211Z",
     "iopub.status.busy": "2022-04-18T12:31:01.246434Z",
     "iopub.status.idle": "2022-04-18T12:31:01.251077Z",
     "shell.execute_reply": "2022-04-18T12:31:01.250164Z",
     "shell.execute_reply.started": "2022-04-18T12:31:01.247161Z"
    },
    "id": "Mf8zSkH_fMbb"
   },
   "outputs": [],
   "source": [
    "import matplotlib.pyplot as plt"
   ]
  },
  {
   "cell_type": "markdown",
   "metadata": {
    "id": "tQ58ScvBfMbc"
   },
   "source": [
    "#### Defining index position for the test data. Making dataframe for the predicted value."
   ]
  },
  {
   "cell_type": "code",
   "execution_count": null,
   "metadata": {
    "ExecuteTime": {
     "end_time": "2021-09-22T09:46:45.351277Z",
     "start_time": "2021-09-22T09:46:45.345293Z"
    },
    "execution": {
     "iopub.execute_input": "2022-04-18T12:31:01.592807Z",
     "iopub.status.busy": "2022-04-18T12:31:01.592443Z",
     "iopub.status.idle": "2022-04-18T12:31:01.597871Z",
     "shell.execute_reply": "2022-04-18T12:31:01.596827Z",
     "shell.execute_reply.started": "2022-04-18T12:31:01.592766Z"
    },
    "id": "jr_K_xy5fMbc"
   },
   "outputs": [],
   "source": [
    "idx=np.arange(int(test_start_index),int(test_end_index)+1)\n",
    "predictions_df_ = pd.DataFrame(data=prediction[0:], index = idx, columns=['Prices'])"
   ]
  },
  {
   "cell_type": "code",
   "execution_count": null,
   "metadata": {
    "ExecuteTime": {
     "end_time": "2021-09-22T09:46:46.414957Z",
     "start_time": "2021-09-22T09:46:46.405980Z"
    },
    "colab": {
     "base_uri": "https://localhost:8080/",
     "height": 143
    },
    "execution": {
     "iopub.execute_input": "2022-04-18T12:31:01.923303Z",
     "iopub.status.busy": "2022-04-18T12:31:01.922823Z",
     "iopub.status.idle": "2022-04-18T12:31:01.931232Z",
     "shell.execute_reply": "2022-04-18T12:31:01.930453Z",
     "shell.execute_reply.started": "2022-04-18T12:31:01.923268Z"
    },
    "id": "YvH3mkFzfMbd",
    "outputId": "36841fa9-50e6-4004-875d-068ae11e1cfc"
   },
   "outputs": [
    {
     "data": {
      "text/html": [
       "\n",
       "  <div id=\"df-de769b70-8b8e-4ceb-b7c0-9def53be78e2\">\n",
       "    <div class=\"colab-df-container\">\n",
       "      <div>\n",
       "<style scoped>\n",
       "    .dataframe tbody tr th:only-of-type {\n",
       "        vertical-align: middle;\n",
       "    }\n",
       "\n",
       "    .dataframe tbody tr th {\n",
       "        vertical-align: top;\n",
       "    }\n",
       "\n",
       "    .dataframe thead th {\n",
       "        text-align: right;\n",
       "    }\n",
       "</style>\n",
       "<table border=\"1\" class=\"dataframe\">\n",
       "  <thead>\n",
       "    <tr style=\"text-align: right;\">\n",
       "      <th></th>\n",
       "      <th>Prices</th>\n",
       "    </tr>\n",
       "  </thead>\n",
       "  <tbody>\n",
       "    <tr>\n",
       "      <th>5</th>\n",
       "      <td>2138.20</td>\n",
       "    </tr>\n",
       "    <tr>\n",
       "      <th>6</th>\n",
       "      <td>2171.58</td>\n",
       "    </tr>\n",
       "    <tr>\n",
       "      <th>7</th>\n",
       "      <td>2165.24</td>\n",
       "    </tr>\n",
       "  </tbody>\n",
       "</table>\n",
       "</div>\n",
       "      <button class=\"colab-df-convert\" onclick=\"convertToInteractive('df-de769b70-8b8e-4ceb-b7c0-9def53be78e2')\"\n",
       "              title=\"Convert this dataframe to an interactive table.\"\n",
       "              style=\"display:none;\">\n",
       "        \n",
       "  <svg xmlns=\"http://www.w3.org/2000/svg\" height=\"24px\"viewBox=\"0 0 24 24\"\n",
       "       width=\"24px\">\n",
       "    <path d=\"M0 0h24v24H0V0z\" fill=\"none\"/>\n",
       "    <path d=\"M18.56 5.44l.94 2.06.94-2.06 2.06-.94-2.06-.94-.94-2.06-.94 2.06-2.06.94zm-11 1L8.5 8.5l.94-2.06 2.06-.94-2.06-.94L8.5 2.5l-.94 2.06-2.06.94zm10 10l.94 2.06.94-2.06 2.06-.94-2.06-.94-.94-2.06-.94 2.06-2.06.94z\"/><path d=\"M17.41 7.96l-1.37-1.37c-.4-.4-.92-.59-1.43-.59-.52 0-1.04.2-1.43.59L10.3 9.45l-7.72 7.72c-.78.78-.78 2.05 0 2.83L4 21.41c.39.39.9.59 1.41.59.51 0 1.02-.2 1.41-.59l7.78-7.78 2.81-2.81c.8-.78.8-2.07 0-2.86zM5.41 20L4 18.59l7.72-7.72 1.47 1.35L5.41 20z\"/>\n",
       "  </svg>\n",
       "      </button>\n",
       "      \n",
       "  <style>\n",
       "    .colab-df-container {\n",
       "      display:flex;\n",
       "      flex-wrap:wrap;\n",
       "      gap: 12px;\n",
       "    }\n",
       "\n",
       "    .colab-df-convert {\n",
       "      background-color: #E8F0FE;\n",
       "      border: none;\n",
       "      border-radius: 50%;\n",
       "      cursor: pointer;\n",
       "      display: none;\n",
       "      fill: #1967D2;\n",
       "      height: 32px;\n",
       "      padding: 0 0 0 0;\n",
       "      width: 32px;\n",
       "    }\n",
       "\n",
       "    .colab-df-convert:hover {\n",
       "      background-color: #E2EBFA;\n",
       "      box-shadow: 0px 1px 2px rgba(60, 64, 67, 0.3), 0px 1px 3px 1px rgba(60, 64, 67, 0.15);\n",
       "      fill: #174EA6;\n",
       "    }\n",
       "\n",
       "    [theme=dark] .colab-df-convert {\n",
       "      background-color: #3B4455;\n",
       "      fill: #D2E3FC;\n",
       "    }\n",
       "\n",
       "    [theme=dark] .colab-df-convert:hover {\n",
       "      background-color: #434B5C;\n",
       "      box-shadow: 0px 1px 3px 1px rgba(0, 0, 0, 0.15);\n",
       "      filter: drop-shadow(0px 1px 2px rgba(0, 0, 0, 0.3));\n",
       "      fill: #FFFFFF;\n",
       "    }\n",
       "  </style>\n",
       "\n",
       "      <script>\n",
       "        const buttonEl =\n",
       "          document.querySelector('#df-de769b70-8b8e-4ceb-b7c0-9def53be78e2 button.colab-df-convert');\n",
       "        buttonEl.style.display =\n",
       "          google.colab.kernel.accessAllowed ? 'block' : 'none';\n",
       "\n",
       "        async function convertToInteractive(key) {\n",
       "          const element = document.querySelector('#df-de769b70-8b8e-4ceb-b7c0-9def53be78e2');\n",
       "          const dataTable =\n",
       "            await google.colab.kernel.invokeFunction('convertToInteractive',\n",
       "                                                     [key], {});\n",
       "          if (!dataTable) return;\n",
       "\n",
       "          const docLinkHtml = 'Like what you see? Visit the ' +\n",
       "            '<a target=\"_blank\" href=https://colab.research.google.com/notebooks/data_table.ipynb>data table notebook</a>'\n",
       "            + ' to learn more about interactive tables.';\n",
       "          element.innerHTML = '';\n",
       "          dataTable['output_type'] = 'display_data';\n",
       "          await google.colab.output.renderOutput(dataTable, element);\n",
       "          const docLink = document.createElement('div');\n",
       "          docLink.innerHTML = docLinkHtml;\n",
       "          element.appendChild(docLink);\n",
       "        }\n",
       "      </script>\n",
       "    </div>\n",
       "  </div>\n",
       "  "
      ],
      "text/plain": [
       "    Prices\n",
       "5  2138.20\n",
       "6  2171.58\n",
       "7  2165.24"
      ]
     },
     "execution_count": 140,
     "metadata": {},
     "output_type": "execute_result"
    }
   ],
   "source": [
    "predictions_df_"
   ]
  },
  {
   "cell_type": "code",
   "execution_count": null,
   "metadata": {
    "colab": {
     "base_uri": "https://localhost:8080/"
    },
    "execution": {
     "iopub.execute_input": "2022-04-18T12:31:02.130293Z",
     "iopub.status.busy": "2022-04-18T12:31:02.129574Z",
     "iopub.status.idle": "2022-04-18T12:31:02.136464Z",
     "shell.execute_reply": "2022-04-18T12:31:02.135806Z",
     "shell.execute_reply.started": "2022-04-18T12:31:02.130247Z"
    },
    "id": "DOd1SUwKfMbd",
    "outputId": "1d11fcb2-5bae-4ff2-eba4-9e19e570b98a"
   },
   "outputs": [
    {
     "name": "stdout",
     "output_type": "stream",
     "text": [
      "53.144814736090154\n"
     ]
    }
   ],
   "source": [
    "from sklearn.metrics import  mean_squared_error\n",
    "rmse = mean_squared_error(y_test,prediction,squared=False)\n",
    "print(rmse)"
   ]
  },
  {
   "cell_type": "markdown",
   "metadata": {
    "id": "LrPeJCuofMbd"
   },
   "source": [
    "#### Plotting the graph for the Predicted_price VS Actual Price"
   ]
  },
  {
   "cell_type": "code",
   "execution_count": null,
   "metadata": {
    "ExecuteTime": {
     "end_time": "2021-09-22T09:46:51.727734Z",
     "start_time": "2021-09-22T09:46:51.485198Z"
    },
    "colab": {
     "base_uri": "https://localhost:8080/",
     "height": 295
    },
    "execution": {
     "iopub.execute_input": "2022-04-18T12:31:02.347349Z",
     "iopub.status.busy": "2022-04-18T12:31:02.347019Z",
     "iopub.status.idle": "2022-04-18T12:31:02.635222Z",
     "shell.execute_reply": "2022-04-18T12:31:02.634532Z",
     "shell.execute_reply.started": "2022-04-18T12:31:02.347319Z"
    },
    "id": "nAf4vvVWfMbe",
    "outputId": "0e229f12-65ea-4b39-832a-7752f1189504"
   },
   "outputs": [
    {
     "data": {
      "image/png": "[encoded data removed]",
      "text/plain": [
       "<Figure size 432x288 with 1 Axes>"
      ]
     },
     "metadata": {
      "needs_background": "light"
     },
     "output_type": "display_data"
    }
   ],
   "source": [
    "ax = predictions_df_.rename(columns={\"Prices\": \"predicted_price\"}).plot(title='Random Forest predicted prices')#predicted value\n",
    "ax.set_xlabel(\"Indexes\")\n",
    "ax.set_ylabel(\"Stock Prices\")\n",
    "fig = y_test.rename(columns={\"Prices\": \"actual_price\"}).plot(ax = ax).get_figure()#actual value\n",
    "fig.savefig(\"random forest.png\")"
   ]
  },
  {
   "cell_type": "code",
   "execution_count": null,
   "metadata": {
    "ExecuteTime": {
     "end_time": "2021-09-22T09:47:06.527704Z",
     "start_time": "2021-09-22T09:47:06.512721Z"
    },
    "colab": {
     "base_uri": "https://localhost:8080/"
    },
    "execution": {
     "iopub.execute_input": "2022-04-18T12:31:02.717600Z",
     "iopub.status.busy": "2022-04-18T12:31:02.717180Z",
     "iopub.status.idle": "2022-04-18T12:31:02.725344Z",
     "shell.execute_reply": "2022-04-18T12:31:02.724248Z",
     "shell.execute_reply.started": "2022-04-18T12:31:02.717569Z"
    },
    "id": "8VTAbAF6fMbe",
    "outputId": "af9a5320-553c-4c90-b4d1-aafbe21193a4"
   },
   "outputs": [
    {
     "data": {
      "text/plain": [
       "LinearRegression()"
      ]
     },
     "execution_count": 143,
     "metadata": {},
     "output_type": "execute_result"
    }
   ],
   "source": [
    "# from treeinterpreter import treeinterpreter as ti\n",
    "# from sklearn.tree import DecisionTreeRegressor\n",
    "from sklearn.linear_model import LinearRegression\n",
    "from sklearn.metrics import classification_report,confusion_matrix\n",
    "\n",
    "reg = LinearRegression()\n",
    "reg.fit(numpy_df_train, y_train)"
   ]
  },
  {
   "cell_type": "code",
   "execution_count": null,
   "metadata": {
    "ExecuteTime": {
     "end_time": "2021-09-22T09:47:06.903403Z",
     "start_time": "2021-09-22T09:47:06.899386Z"
    },
    "colab": {
     "base_uri": "https://localhost:8080/"
    },
    "execution": {
     "iopub.execute_input": "2022-04-18T12:31:03.062097Z",
     "iopub.status.busy": "2022-04-18T12:31:03.061635Z",
     "iopub.status.idle": "2022-04-18T12:31:03.069380Z",
     "shell.execute_reply": "2022-04-18T12:31:03.068551Z",
     "shell.execute_reply.started": "2022-04-18T12:31:03.062061Z"
    },
    "id": "U_ZHDQ-6fMbf",
    "outputId": "94b2ee2f-0bf8-4233-adb5-26958b6fac77"
   },
   "outputs": [
    {
     "data": {
      "text/plain": [
       "array([[2103.27243949],\n",
       "       [2182.41585379],\n",
       "       [2167.6925613 ]])"
      ]
     },
     "execution_count": 144,
     "metadata": {},
     "output_type": "execute_result"
    }
   ],
   "source": [
    "reg.predict(numpy_df_test)"
   ]
  },
  {
   "cell_type": "code",
   "execution_count": null,
   "metadata": {
    "id": "VOtpj16AfMbf"
   },
   "outputs": [],
   "source": []
  },
  {
   "cell_type": "code",
   "execution_count": null,
   "metadata": {
    "id": "dAUwrJ3XhS2Y"
   },
   "outputs": [],
   "source": []
  },
  {
   "cell_type": "code",
   "execution_count": null,
   "metadata": {
    "id": "-Enge6HuhS5a"
   },
   "outputs": [],
   "source": []
  },
  {
   "cell_type": "code",
   "execution_count": null,
   "metadata": {
    "id": "h4XI2i59hS9w"
   },
   "outputs": [],
   "source": []
  },
  {
   "cell_type": "code",
   "execution_count": null,
   "metadata": {
    "id": "sVUK-OrLhTAG"
   },
   "outputs": [],
   "source": []
  },
  {
   "cell_type": "code",
   "execution_count": null,
   "metadata": {
    "id": "1AmrWGtAhTC3"
   },
   "outputs": [],
   "source": []
  },
  {
   "cell_type": "code",
   "execution_count": null,
   "metadata": {
    "id": "NhGqKnHehTJ5"
   },
   "outputs": [],
   "source": []
  }
 ],
 "metadata": {
  "accelerator": "GPU",
  "colab": {
   "name": "amazing-work.ipynb",
   "provenance": []
  },
  "kernelspec": {
   "display_name": "Python 3 (ipykernel)",
   "language": "python",
   "name": "python3"
  },
  "language_info": {
   "codemirror_mode": {
    "name": "ipython",
    "version": 3
   },
   "file_extension": ".py",
   "mimetype": "text/x-python",
   "name": "python",
   "nbconvert_exporter": "python",
   "pygments_lexer": "ipython3",
   "version": "3.9.12"
  }
 },
 "nbformat": 4,
 "nbformat_minor": 1
}
